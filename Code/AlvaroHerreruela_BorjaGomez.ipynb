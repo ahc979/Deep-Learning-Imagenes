{
  "nbformat": 4,
  "nbformat_minor": 0,
  "metadata": {
    "accelerator": "GPU",
    "anaconda-cloud": {},
    "colab": {
      "name": "AlvaroHerreruela_BorjaGomez.ipynb",
      "provenance": [],
      "collapsed_sections": []
    },
    "kernelspec": {
      "display_name": "Python 3",
      "language": "python",
      "name": "python3"
    },
    "language_info": {
      "codemirror_mode": {
        "name": "ipython",
        "version": 3
      },
      "file_extension": ".py",
      "mimetype": "text/x-python",
      "name": "python",
      "nbconvert_exporter": "python",
      "pygments_lexer": "ipython3",
      "version": "3.8.5"
    }
  },
  "cells": [
    {
      "cell_type": "markdown",
      "metadata": {
        "id": "YWcI6FCO-mjc"
      },
      "source": [
        "**Álvaro Herreruela y Borja Gómez Sopeña**"
      ]
    },
    {
      "cell_type": "markdown",
      "metadata": {
        "id": "KX8zKrS-hRJk"
      },
      "source": [
        "# Lab assignment: the hunger games"
      ]
    },
    {
      "cell_type": "markdown",
      "metadata": {
        "id": "vanYztAMhRJt"
      },
      "source": [
        "<table><tr>\n",
        "    <td><img src=\"https://albarji-labs-materials.s3-eu-west-1.amazonaws.com/breakfast.jpg\" style=\"width:300px;height:300px;\"></td>\n",
        "    <td><img src=\"https://albarji-labs-materials.s3-eu-west-1.amazonaws.com/hamburger.jpg\" style=\"width:300px;height:300px;\"></td>\n",
        "    <td><img src=\"https://albarji-labs-materials.s3-eu-west-1.amazonaws.com/fruits.jpg\" style=\"width:300px;height:300px;\"></td>\n",
        "</tr></table>"
      ]
    },
    {
      "cell_type": "markdown",
      "metadata": {
        "id": "6E7BW750hRJu"
      },
      "source": [
        "In this assignment we will face a challenging image classification problem, building a deep learning model that is able to classify different kinds of foods. Let the hunger games begin!"
      ]
    },
    {
      "cell_type": "markdown",
      "metadata": {
        "id": "Mnn_FAm8hRJv"
      },
      "source": [
        "## Guidelines"
      ]
    },
    {
      "cell_type": "markdown",
      "metadata": {
        "id": "gspUM6n3hRJw"
      },
      "source": [
        "Throughout this notebook you will find empty cells that you will need to fill with your own code. Follow the instructions in the notebook and pay special attention to the following symbols.\n",
        "\n",
        "<img src=\"https://albarji-labs-materials.s3-eu-west-1.amazonaws.com/question.png\" height=\"80\" width=\"80\" style=\"float: right;\"/>\n",
        "\n",
        "***\n",
        "\n",
        "<font color=#ad3e26>\n",
        "You will need to solve a question by writing your own code or answer in the cell immediately below or in a different file, as instructed.</font>\n",
        "\n",
        "***"
      ]
    },
    {
      "cell_type": "markdown",
      "metadata": {
        "id": "sZHQpQXrhRJw"
      },
      "source": [
        "<img src=\"https://albarji-labs-materials.s3-eu-west-1.amazonaws.com/exclamation.png\" height=\"80\" width=\"80\" style=\"float: right;\"/>\n",
        "\n",
        "***\n",
        "<font color=#2655ad>\n",
        "This is a hint or useful observation that can help you solve this assignment. You should pay attention to these hints to better understand the assignment.\n",
        "</font>\n",
        "\n",
        "***"
      ]
    },
    {
      "cell_type": "markdown",
      "metadata": {
        "id": "xghhJf_HhRJx"
      },
      "source": [
        "<img src=\"https://albarji-labs-materials.s3-eu-west-1.amazonaws.com/pro.png\" height=\"80\" width=\"80\" style=\"float: right;\"/>\n",
        "\n",
        "***\n",
        "<font color=#259b4c>\n",
        "This is an advanced exercise that can help you gain a deeper knowledge into the topic. Good luck!</font>\n",
        "\n",
        "***"
      ]
    },
    {
      "cell_type": "markdown",
      "metadata": {
        "id": "NWAbqrofhRJy"
      },
      "source": [
        "To avoid missing packages and compatibility issues you should run this notebook under one of the [recommended Deep Learning environment files](https://github.com/albarji/teaching-environments/tree/master/deeplearning), or make use of [Google Colaboratory](https://colab.research.google.com/). If you use Colaboratory make sure to [activate GPU support](https://colab.research.google.com/notebooks/gpu.ipynb)."
      ]
    },
    {
      "cell_type": "markdown",
      "metadata": {
        "id": "mZmf8R9DhRJy"
      },
      "source": [
        "The following code will embed any plots into the notebook instead of generating a new window:"
      ]
    },
    {
      "cell_type": "code",
      "metadata": {
        "id": "DxmdgWqNhRJz"
      },
      "source": [
        "import matplotlib.pyplot as plt\n",
        "%matplotlib inline"
      ],
      "execution_count": null,
      "outputs": []
    },
    {
      "cell_type": "markdown",
      "metadata": {
        "id": "9UgDu1WUhRJ0"
      },
      "source": [
        "Lastly, if you need any help on the usage of a Python function you can place the writing cursor over its name and press Caps+Shift to produce a pop-out with related documentation. This will only work inside code cells. \n",
        "\n",
        "Let's go!"
      ]
    },
    {
      "cell_type": "markdown",
      "metadata": {
        "id": "K733uf0ghRJ2"
      },
      "source": [
        "## Data acquisition"
      ]
    },
    {
      "cell_type": "markdown",
      "metadata": {
        "id": "5ZYPquwFhRJ2"
      },
      "source": [
        "We will use a food images dataset available at [Kaggle](https://www.kaggle.com/trolukovich/food11-image-dataset). To download it you will need to create a user account in Kaggle, and obtain your API credential by following the instructions on [this section](https://www.kaggle.com/trolukovich/food11-image-dataset). Once you have your credentials JSON file, you can inform this notebook of them by setting the appropriate enviroment variables, as follows\n",
        "\n",
        "    import os\n",
        "\n",
        "    os.environ[\"KAGGLE_USERNAME\"] = \"YOUR KAGGLE USERNAME HERE\"\n",
        "    os.environ[\"KAGGLE_KEY\"] = \"YOUR KAGGLE KEY HERE\"\n",
        "    \n",
        "Once this is done, you will be able to download the dataset to this computer using the command\n",
        "\n",
        "    !kaggle datasets download trolukovich/food11-image-dataset --unzip -p YOUR_LOCAL_FOLDER\n",
        "    \n",
        "where you should write a valid directory in your computer in \"YOUR_LOCAL_FOLDER\". If you are fine with downloading the data in the same folder as this notebook, just skip the `-p YOUR_LOCAL_FOLDER` part of the command."
      ]
    },
    {
      "cell_type": "markdown",
      "metadata": {
        "id": "VRX8BQsZhRJ2"
      },
      "source": [
        "<img src=\"https://albarji-labs-materials.s3-eu-west-1.amazonaws.com/question.png\" height=\"80\" width=\"80\" style=\"float: right;\"/>\n",
        "\n",
        "***\n",
        "\n",
        "<font color=#ad3e26>\n",
        "Create a Kaggle account, obtain your credentials, and use the cell below to declare your Kaggle username and key variables, and to download the dataset to a local folder.\n",
        "    \n",
        "These credentials should remain secret to you. Remember to delete them before submitting this notebook!\n",
        "</font>\n",
        "\n",
        "***"
      ]
    },
    {
      "cell_type": "code",
      "metadata": {
        "id": "uXaIaJGJ2UkS",
        "colab": {
          "base_uri": "https://localhost:8080/"
        },
        "outputId": "415caa9e-461c-4271-d235-adc19d1bf72a"
      },
      "source": [
        "!pip install kaggle"
      ],
      "execution_count": null,
      "outputs": [
        {
          "output_type": "stream",
          "text": [
            "Requirement already satisfied: kaggle in /usr/local/lib/python3.7/dist-packages (1.5.12)\n",
            "Requirement already satisfied: urllib3 in /usr/local/lib/python3.7/dist-packages (from kaggle) (1.24.3)\n",
            "Requirement already satisfied: requests in /usr/local/lib/python3.7/dist-packages (from kaggle) (2.23.0)\n",
            "Requirement already satisfied: python-slugify in /usr/local/lib/python3.7/dist-packages (from kaggle) (5.0.2)\n",
            "Requirement already satisfied: six>=1.10 in /usr/local/lib/python3.7/dist-packages (from kaggle) (1.15.0)\n",
            "Requirement already satisfied: python-dateutil in /usr/local/lib/python3.7/dist-packages (from kaggle) (2.8.1)\n",
            "Requirement already satisfied: certifi in /usr/local/lib/python3.7/dist-packages (from kaggle) (2020.12.5)\n",
            "Requirement already satisfied: tqdm in /usr/local/lib/python3.7/dist-packages (from kaggle) (4.41.1)\n",
            "Requirement already satisfied: chardet<4,>=3.0.2 in /usr/local/lib/python3.7/dist-packages (from requests->kaggle) (3.0.4)\n",
            "Requirement already satisfied: idna<3,>=2.5 in /usr/local/lib/python3.7/dist-packages (from requests->kaggle) (2.10)\n",
            "Requirement already satisfied: text-unidecode>=1.3 in /usr/local/lib/python3.7/dist-packages (from python-slugify->kaggle) (1.3)\n"
          ],
          "name": "stdout"
        }
      ]
    },
    {
      "cell_type": "code",
      "metadata": {
        "id": "oSijA015QDsU"
      },
      "source": [
        "import os\n",
        "os.environ[\"KAGGLE_USERNAME\"] = \"\"\n",
        "os.environ[\"KAGGLE_KEY\"] = \"\""
      ],
      "execution_count": null,
      "outputs": []
    },
    {
      "cell_type": "code",
      "metadata": {
        "colab": {
          "base_uri": "https://localhost:8080/"
        },
        "id": "cDTBanCLQFkk",
        "outputId": "e55ced8d-203d-49af-ba70-9d01075f9877"
      },
      "source": [
        "!kaggle datasets download trolukovich/food11-image-dataset --unzip -p YOUR_LOCAL_FOLDER"
      ],
      "execution_count": null,
      "outputs": [
        {
          "output_type": "stream",
          "text": [
            "Downloading food11-image-dataset.zip to YOUR_LOCAL_FOLDER\n",
            " 99% 1.07G/1.08G [00:06<00:00, 171MB/s]\n",
            "100% 1.08G/1.08G [00:06<00:00, 188MB/s]\n"
          ],
          "name": "stdout"
        }
      ]
    },
    {
      "cell_type": "markdown",
      "metadata": {
        "id": "Xmh27gIEhRJ4"
      },
      "source": [
        "Take now a look into the folder where you downloaded the data. You will find it is made up of three subfolders:\n",
        "\n",
        "* **training**, containing the images to use to train the model.\n",
        "* **validation**, containing additional images you could use as more training data, or for some kind of validation strategy such as Early Stopping.\n",
        "* **evaluation**, containing the images you must use to test your model. Images in this folder can **only** be used to measure the model performance after the training procedure is completed.\n",
        "\n",
        "Furthermore, within each one of these folders you will find one folder for each one of the 11 classes in this problem:\n",
        "\n",
        "* Bread\n",
        "* Dairy product\n",
        "* Dessert\n",
        "* Egg\n",
        "* Fried food\n",
        "* Meat\n",
        "* Noodles-Pasta\n",
        "* Rice\n",
        "* Seafood\n",
        "* Soup\n",
        "* Vegetable-Fruit\n",
        "\n",
        "This is a standard structure for organizing image datasets: one folder per class. To easen the following data processing steps, let us define some variables telling us where the data is located."
      ]
    },
    {
      "cell_type": "markdown",
      "metadata": {
        "id": "MJrE8F8zhRJ4"
      },
      "source": [
        "<img src=\"https://albarji-labs-materials.s3-eu-west-1.amazonaws.com/question.png\" height=\"80\" width=\"80\" style=\"float: right;\"/>\n",
        "\n",
        "***\n",
        "\n",
        "<font color=#ad3e26>\n",
        "    Create variables <b>TRAINDIR</b>, <b>VALDIR</b> and <b>TESTDIR</b> with the paths to the folders with the training, validation and evaluation data, respectively.\n",
        "</font>\n",
        "\n",
        "***"
      ]
    },
    {
      "cell_type": "code",
      "metadata": {
        "colab": {
          "base_uri": "https://localhost:8080/"
        },
        "id": "bZOHVpHHQYP8",
        "outputId": "c9782333-c780-44c4-f873-111f61622f31"
      },
      "source": [
        "from google.colab import drive\n",
        "drive.mount('/content/drive')"
      ],
      "execution_count": null,
      "outputs": [
        {
          "output_type": "stream",
          "text": [
            "Mounted at /content/drive\n"
          ],
          "name": "stdout"
        }
      ]
    },
    {
      "cell_type": "code",
      "metadata": {
        "colab": {
          "base_uri": "https://localhost:8080/"
        },
        "id": "-Ak6PwKnQgxt",
        "outputId": "59ca5173-1814-4125-e98b-e6ac170198c5"
      },
      "source": [
        "os.listdir('/content/YOUR_LOCAL_FOLDER')"
      ],
      "execution_count": null,
      "outputs": [
        {
          "output_type": "execute_result",
          "data": {
            "text/plain": [
              "['training', 'validation', 'evaluation']"
            ]
          },
          "metadata": {
            "tags": []
          },
          "execution_count": 6
        }
      ]
    },
    {
      "cell_type": "code",
      "metadata": {
        "id": "Em7ujnT0Qmdk"
      },
      "source": [
        "import shutil\n",
        "from keras.preprocessing.image import ImageDataGenerator"
      ],
      "execution_count": null,
      "outputs": []
    },
    {
      "cell_type": "code",
      "metadata": {
        "id": "-WfAbVIaQnnO"
      },
      "source": [
        "datagen = ImageDataGenerator()\n",
        "TRAINDIR = '/content/YOUR_LOCAL_FOLDER/training'\n",
        "VALDIR = '/content/YOUR_LOCAL_FOLDER/validation'\n",
        "TESTDIR = '/content/YOUR_LOCAL_FOLDER/evaluation'"
      ],
      "execution_count": null,
      "outputs": []
    },
    {
      "cell_type": "markdown",
      "metadata": {
        "id": "WtoTuArehRJ5"
      },
      "source": [
        "Let's plot a random sample of training images from each class, using the ipyplot package. If you are running this notebook in Google Colab, you will need to install this package first with\n",
        "\n",
        "    !pip install ipyplot\n",
        "\n",
        "You can inspect each class by clicking the different tabs in the interface that will appear when running the following cell."
      ]
    },
    {
      "cell_type": "code",
      "metadata": {
        "id": "xvzGobwSd85R",
        "colab": {
          "base_uri": "https://localhost:8080/"
        },
        "outputId": "2d25051b-1730-44bf-e280-c15a53d18a4a"
      },
      "source": [
        "!pip install ipyplot"
      ],
      "execution_count": null,
      "outputs": [
        {
          "output_type": "stream",
          "text": [
            "Collecting ipyplot\n",
            "  Downloading https://files.pythonhosted.org/packages/c8/2d/ba3031b6945e40ac1137ffb3931528bf4a76f36f0668b6c1879fadac070d/ipyplot-1.1.0-py3-none-any.whl\n",
            "Requirement already satisfied: IPython in /usr/local/lib/python3.7/dist-packages (from ipyplot) (5.5.0)\n",
            "Collecting shortuuid\n",
            "  Downloading https://files.pythonhosted.org/packages/25/a6/2ecc1daa6a304e7f1b216f0896b26156b78e7c38e1211e9b798b4716c53d/shortuuid-1.0.1-py3-none-any.whl\n",
            "Requirement already satisfied: numpy in /usr/local/lib/python3.7/dist-packages (from ipyplot) (1.19.5)\n",
            "Requirement already satisfied: pillow in /usr/local/lib/python3.7/dist-packages (from ipyplot) (7.1.2)\n",
            "Requirement already satisfied: setuptools>=18.5 in /usr/local/lib/python3.7/dist-packages (from IPython->ipyplot) (56.1.0)\n",
            "Requirement already satisfied: pygments in /usr/local/lib/python3.7/dist-packages (from IPython->ipyplot) (2.6.1)\n",
            "Requirement already satisfied: simplegeneric>0.8 in /usr/local/lib/python3.7/dist-packages (from IPython->ipyplot) (0.8.1)\n",
            "Requirement already satisfied: pexpect; sys_platform != \"win32\" in /usr/local/lib/python3.7/dist-packages (from IPython->ipyplot) (4.8.0)\n",
            "Requirement already satisfied: decorator in /usr/local/lib/python3.7/dist-packages (from IPython->ipyplot) (4.4.2)\n",
            "Requirement already satisfied: prompt-toolkit<2.0.0,>=1.0.4 in /usr/local/lib/python3.7/dist-packages (from IPython->ipyplot) (1.0.18)\n",
            "Requirement already satisfied: traitlets>=4.2 in /usr/local/lib/python3.7/dist-packages (from IPython->ipyplot) (5.0.5)\n",
            "Requirement already satisfied: pickleshare in /usr/local/lib/python3.7/dist-packages (from IPython->ipyplot) (0.7.5)\n",
            "Requirement already satisfied: ptyprocess>=0.5 in /usr/local/lib/python3.7/dist-packages (from pexpect; sys_platform != \"win32\"->IPython->ipyplot) (0.7.0)\n",
            "Requirement already satisfied: six>=1.9.0 in /usr/local/lib/python3.7/dist-packages (from prompt-toolkit<2.0.0,>=1.0.4->IPython->ipyplot) (1.15.0)\n",
            "Requirement already satisfied: wcwidth in /usr/local/lib/python3.7/dist-packages (from prompt-toolkit<2.0.0,>=1.0.4->IPython->ipyplot) (0.2.5)\n",
            "Requirement already satisfied: ipython-genutils in /usr/local/lib/python3.7/dist-packages (from traitlets>=4.2->IPython->ipyplot) (0.2.0)\n",
            "Installing collected packages: shortuuid, ipyplot\n",
            "Successfully installed ipyplot-1.1.0 shortuuid-1.0.1\n"
          ],
          "name": "stdout"
        }
      ]
    },
    {
      "cell_type": "code",
      "metadata": {
        "id": "MWCsZR3ahRJ5",
        "scrolled": false,
        "colab": {
          "base_uri": "https://localhost:8080/"
        },
        "outputId": "bfb268c1-29a6-4425-bbfe-f8681c8ec032"
      },
      "source": [
        "from glob import glob\n",
        "import ipyplot\n",
        "import numpy as np\n",
        "\n",
        "# all_images = glob(f\"{TRAINDIR}/*/*.jpg\")  # Get all image paths\n",
        "# np.random.shuffle(all_images)  # Randomize to show different images each run\n",
        "# all_labels = [f.split(\"/\")[-2] for f in all_images]  # Extract class names from path\n",
        "\n",
        "# ipyplot.plot_class_tabs(all_images, all_labels, max_imgs_per_tab=6, img_width=300, force_b64=True)"
      ],
      "execution_count": null,
      "outputs": [
        {
          "output_type": "stream",
          "text": [
            "\n",
            "        WARNING! Google Colab Environment detected!\n",
            "        You might encounter issues while running in Google Colab environment.\n",
            "        If images are not displaying properly please try setting `base_64` param to `True`.\n",
            "        \n"
          ],
          "name": "stdout"
        }
      ]
    },
    {
      "cell_type": "markdown",
      "metadata": {
        "id": "ikYtQyR-hRJ6"
      },
      "source": [
        "### Class reduction"
      ]
    },
    {
      "cell_type": "markdown",
      "metadata": {
        "id": "AWsLot-7hRJ6"
      },
      "source": [
        "To make the problem more approachable for this exercise, we will focus on just six classes: `Bread`, `Dairy product`, `Dessert`, `Egg`, `Fried food` and `Meat`. To do so, we will delete from the downloaded data the folders from other classes."
      ]
    },
    {
      "cell_type": "code",
      "metadata": {
        "colab": {
          "base_uri": "https://localhost:8080/"
        },
        "id": "TXoNw1-thRJ7",
        "outputId": "03c7d3df-d95d-453b-99f1-8f9f9cc2f354"
      },
      "source": [
        "from glob import glob\n",
        "import os\n",
        "\n",
        "valid_classes = {\"Bread\", \"Dairy product\", \"Dessert\", \"Egg\", \"Fried food\", \"Meat\"}\n",
        "datasets = {TRAINDIR, VALDIR, TESTDIR}\n",
        "\n",
        "for dataset in datasets:\n",
        "    for classdir in glob(f\"{dataset}/*\"):  # Find subfolders with classes\n",
        "        if classdir.split(\"/\")[-1] not in valid_classes:  # Ignore those in valid_classes\n",
        "            print(f\"Deleting {classdir}...\")\n",
        "            for fname in glob(f\"{classdir}/*.jpg\"):  # Remove each image file\n",
        "                os.remove(fname)\n",
        "            os.rmdir(classdir)  # Remove folder"
      ],
      "execution_count": null,
      "outputs": [
        {
          "output_type": "stream",
          "text": [
            "Deleting /content/YOUR_LOCAL_FOLDER/evaluation/Rice...\n",
            "Deleting /content/YOUR_LOCAL_FOLDER/evaluation/Soup...\n",
            "Deleting /content/YOUR_LOCAL_FOLDER/evaluation/Noodles-Pasta...\n",
            "Deleting /content/YOUR_LOCAL_FOLDER/evaluation/Seafood...\n",
            "Deleting /content/YOUR_LOCAL_FOLDER/evaluation/Vegetable-Fruit...\n",
            "Deleting /content/YOUR_LOCAL_FOLDER/validation/Rice...\n",
            "Deleting /content/YOUR_LOCAL_FOLDER/validation/Soup...\n",
            "Deleting /content/YOUR_LOCAL_FOLDER/validation/Noodles-Pasta...\n",
            "Deleting /content/YOUR_LOCAL_FOLDER/validation/Seafood...\n",
            "Deleting /content/YOUR_LOCAL_FOLDER/validation/Vegetable-Fruit...\n",
            "Deleting /content/YOUR_LOCAL_FOLDER/training/Rice...\n",
            "Deleting /content/YOUR_LOCAL_FOLDER/training/Soup...\n",
            "Deleting /content/YOUR_LOCAL_FOLDER/training/Noodles-Pasta...\n",
            "Deleting /content/YOUR_LOCAL_FOLDER/training/Seafood...\n",
            "Deleting /content/YOUR_LOCAL_FOLDER/training/Vegetable-Fruit...\n"
          ],
          "name": "stdout"
        }
      ]
    },
    {
      "cell_type": "markdown",
      "metadata": {
        "id": "fncCfOYihRJ7"
      },
      "source": [
        "## Image processing from files"
      ]
    },
    {
      "cell_type": "markdown",
      "metadata": {
        "id": "6wTWrPr-hRJ7"
      },
      "source": [
        "This dataset of images is large, with images of larger resolution than in the tutorial MNIST problem, each one having different sizes and image ratios. Also, while for MNIST we had a keras function that prepared the dataset for us, this time we will need to do some loading and image processing work.\n",
        "\n",
        "A convenient way to do this work is through the use of Keras `image_dataset_from_directory` function. This function creates a TensorFlow `Dataset` with the images in the directory, loading images dynamically only when the neural network needs to use them, and also allowing us to specify some useful preprocessing options.\n",
        "\n",
        "For example, we can create such a `Dataset` with the data in the training folder:"
      ]
    },
    {
      "cell_type": "code",
      "metadata": {
        "colab": {
          "base_uri": "https://localhost:8080/"
        },
        "id": "-edpP7-NhRJ8",
        "outputId": "454ecae5-28fa-4e43-eb48-f6fc922f0ca7"
      },
      "source": [
        "from keras.preprocessing import image_dataset_from_directory\n",
        "\n",
        "image_size = 32\n",
        "batch_size = 64\n",
        "\n",
        "train_dataset = image_dataset_from_directory(\n",
        "    TRAINDIR, \n",
        "    image_size = (image_size, image_size),\n",
        "    batch_size = batch_size, \n",
        "    label_mode = 'categorical'\n",
        ")"
      ],
      "execution_count": null,
      "outputs": [
        {
          "output_type": "stream",
          "text": [
            "Found 6082 files belonging to 6 classes.\n"
          ],
          "name": "stdout"
        }
      ]
    },
    {
      "cell_type": "markdown",
      "metadata": {
        "id": "dGEdEuF5hRJ8"
      },
      "source": [
        "Note the parameters used to configure the dataset:\n",
        "\n",
        "* The **directory** from which to load the images.\n",
        "* An **image size** that will be used to resize all the images to a common resolution, here 32x32.\n",
        "* The **size of the batches** of images to be generated. Note we define this parameter here instead in the network fit step, as the `Dataset` will make use of this information to keep in memory only a few batches of images at the same time in order to save memory.\n",
        "* The **label mode**, that is, the encoding used for the labels. `categorical` means we will use one-hot encoding."
      ]
    },
    {
      "cell_type": "markdown",
      "metadata": {
        "id": "jgeGjQDVhRJ9"
      },
      "source": [
        "A `Dataset` object works like a Python generator, which means we can iterate over it to obtain batches of processed images. For instance, to get the first batch"
      ]
    },
    {
      "cell_type": "code",
      "metadata": {
        "id": "bPAIrHu7hRJ9",
        "colab": {
          "base_uri": "https://localhost:8080/"
        },
        "outputId": "8bc9de5e-48b7-43a0-8433-c54bc9844d3c"
      },
      "source": [
        "for X_batch, y_batch in train_dataset:\n",
        "    print(f\"Shape of input batch: {X_batch.shape}\")\n",
        "    print(f\"Shape of output batch: {y_batch.shape}\")\n",
        "    print(f\"Input batch:\\n{X_batch}\")\n",
        "    print(f\"Output batch:\\n{y_batch}\")\n",
        "    break"
      ],
      "execution_count": null,
      "outputs": [
        {
          "output_type": "stream",
          "text": [
            "Shape of input batch: (64, 32, 32, 3)\n",
            "Shape of output batch: (64, 6)\n",
            "Input batch:\n",
            "[[[[1.1750000e+01 5.0000000e-01 0.0000000e+00]\n",
            "   [1.5000000e+01 5.0000000e-01 5.0000000e-01]\n",
            "   [2.1750000e+01 4.2500000e+00 2.5000000e-01]\n",
            "   ...\n",
            "   [1.5750000e+01 9.7500000e+00 4.7500000e+00]\n",
            "   [4.5250000e+01 2.2000000e+01 2.7500000e+00]\n",
            "   [1.4625000e+02 7.8500000e+01 4.2500000e+00]]\n",
            "\n",
            "  [[2.9250000e+01 4.7500000e+00 7.5000000e-01]\n",
            "   [3.4000000e+01 6.0000000e+00 2.0000000e+00]\n",
            "   [3.4500000e+01 7.5000000e+00 5.0000000e-01]\n",
            "   ...\n",
            "   [9.0500000e+01 5.9000000e+01 1.2500000e+01]\n",
            "   [1.6500000e+01 1.1500000e+01 8.5000000e+00]\n",
            "   [9.3000000e+01 5.4750000e+01 1.3500000e+01]]\n",
            "\n",
            "  [[3.6250000e+01 7.2500000e+00 1.2500000e+00]\n",
            "   [3.7250000e+01 8.2500000e+00 1.2500000e+00]\n",
            "   [4.1250000e+01 9.7500000e+00 2.2500000e+00]\n",
            "   ...\n",
            "   [1.1100000e+02 7.0000000e+01 3.0250000e+01]\n",
            "   [5.5500000e+01 3.6250000e+01 2.1250000e+01]\n",
            "   [1.4000000e+01 5.0000000e+00 2.5000000e+00]]\n",
            "\n",
            "  ...\n",
            "\n",
            "  [[9.2000000e+01 1.1500000e+01 3.0500000e+01]\n",
            "   [1.0400000e+02 1.6250000e+01 3.1750000e+01]\n",
            "   [1.7475000e+02 1.4650000e+02 1.0625000e+02]\n",
            "   ...\n",
            "   [2.1175000e+02 2.1175000e+02 2.1075000e+02]\n",
            "   [2.0850000e+02 2.0925000e+02 2.0500000e+02]\n",
            "   [1.9175000e+02 1.8750000e+02 1.8350000e+02]]\n",
            "\n",
            "  [[8.4250000e+01 1.0500000e+01 2.8000000e+01]\n",
            "   [9.6500000e+01 1.3000000e+01 3.1250000e+01]\n",
            "   [1.0500000e+02 1.8000000e+01 4.1250000e+01]\n",
            "   ...\n",
            "   [2.0800000e+02 2.0600000e+02 2.0700000e+02]\n",
            "   [1.9350000e+02 1.9550000e+02 1.9450000e+02]\n",
            "   [1.8475000e+02 1.8575000e+02 1.8325000e+02]]\n",
            "\n",
            "  [[6.8000000e+01 9.2500000e+00 2.4000000e+01]\n",
            "   [8.8000000e+01 9.5000000e+00 2.5750000e+01]\n",
            "   [9.7750000e+01 1.1750000e+01 3.0750000e+01]\n",
            "   ...\n",
            "   [2.0400000e+02 2.0400000e+02 2.0200000e+02]\n",
            "   [1.8900000e+02 1.9350000e+02 1.9650000e+02]\n",
            "   [1.7550000e+02 1.8350000e+02 1.8550000e+02]]]\n",
            "\n",
            "\n",
            " [[[4.2054688e+01 3.8054688e+01 2.9054688e+01]\n",
            "   [3.7968750e+01 3.5468750e+01 3.1968750e+01]\n",
            "   [3.9507812e+01 3.1507812e+01 2.8507812e+01]\n",
            "   ...\n",
            "   [8.1500000e+01 7.3500000e+01 6.2500000e+01]\n",
            "   [7.2531250e+01 6.9531250e+01 5.2531250e+01]\n",
            "   [6.3531250e+01 5.6031250e+01 4.1531250e+01]]\n",
            "\n",
            "  [[4.6664062e+01 3.9664062e+01 3.3664062e+01]\n",
            "   [4.6093750e+01 3.8046875e+01 3.6070312e+01]\n",
            "   [4.2617188e+01 3.8617188e+01 3.4117188e+01]\n",
            "   ...\n",
            "   [7.4523438e+01 6.6523438e+01 5.5523438e+01]\n",
            "   [8.4281250e+01 7.9781250e+01 6.3281250e+01]\n",
            "   [6.5976562e+01 5.8476562e+01 4.3976562e+01]]\n",
            "\n",
            "  [[9.1031250e+01 8.1031250e+01 7.1031250e+01]\n",
            "   [6.9679688e+01 6.0679688e+01 5.3679688e+01]\n",
            "   [5.0656250e+01 4.3656250e+01 3.7656250e+01]\n",
            "   ...\n",
            "   [7.9968750e+01 7.1968750e+01 5.8968750e+01]\n",
            "   [7.9218750e+01 7.2218750e+01 5.6218750e+01]\n",
            "   [6.0421875e+01 5.2421875e+01 3.9421875e+01]]\n",
            "\n",
            "  ...\n",
            "\n",
            "  [[8.8226562e+01 7.9148438e+01 7.2187500e+01]\n",
            "   [9.1593750e+01 7.8593750e+01 7.2593750e+01]\n",
            "   [8.3601562e+01 7.1984375e+01 6.2523438e+01]\n",
            "   ...\n",
            "   [9.5375000e+01 8.5375000e+01 8.3375000e+01]\n",
            "   [8.3820312e+01 7.2976562e+01 6.8898438e+01]\n",
            "   [8.8148438e+01 7.8148438e+01 7.6687500e+01]]\n",
            "\n",
            "  [[9.1023438e+01 8.2023438e+01 7.7023438e+01]\n",
            "   [9.5070312e+01 8.5070312e+01 7.6070312e+01]\n",
            "   [7.7843750e+01 6.7843750e+01 5.7843750e+01]\n",
            "   ...\n",
            "   [9.4140625e+01 8.5140625e+01 8.0140625e+01]\n",
            "   [9.5187500e+01 8.6187500e+01 8.1187500e+01]\n",
            "   [9.1835938e+01 8.1835938e+01 7.9835938e+01]]\n",
            "\n",
            "  [[8.6070312e+01 7.7070312e+01 7.2070312e+01]\n",
            "   [8.3343750e+01 7.2343750e+01 6.8343750e+01]\n",
            "   [9.8000000e+01 8.7500000e+01 8.0000000e+01]\n",
            "   ...\n",
            "   [9.1546875e+01 8.3546875e+01 8.0546875e+01]\n",
            "   [1.0236719e+02 9.3367188e+01 8.6335938e+01]\n",
            "   [8.4546875e+01 7.7546875e+01 7.0562500e+01]]]\n",
            "\n",
            "\n",
            " [[[0.0000000e+00 0.0000000e+00 0.0000000e+00]\n",
            "   [0.0000000e+00 0.0000000e+00 0.0000000e+00]\n",
            "   [0.0000000e+00 1.5000000e+00 0.0000000e+00]\n",
            "   ...\n",
            "   [2.7750000e+01 3.3250000e+01 2.4750000e+01]\n",
            "   [5.0000000e+00 1.5000000e+01 6.0000000e+00]\n",
            "   [8.5000000e+00 1.5500000e+01 8.0000000e+00]]\n",
            "\n",
            "  [[0.0000000e+00 0.0000000e+00 0.0000000e+00]\n",
            "   [0.0000000e+00 0.0000000e+00 0.0000000e+00]\n",
            "   [0.0000000e+00 1.5000000e+00 0.0000000e+00]\n",
            "   ...\n",
            "   [9.7500000e+00 1.4750000e+01 8.2500000e+00]\n",
            "   [9.0000000e+00 1.6000000e+01 9.0000000e+00]\n",
            "   [2.0500000e+01 2.7500000e+01 2.0500000e+01]]\n",
            "\n",
            "  [[0.0000000e+00 0.0000000e+00 0.0000000e+00]\n",
            "   [0.0000000e+00 0.0000000e+00 0.0000000e+00]\n",
            "   [5.0000000e-01 2.2500000e+00 0.0000000e+00]\n",
            "   ...\n",
            "   [1.0500000e+01 1.5500000e+01 9.0000000e+00]\n",
            "   [1.1750000e+01 1.8750000e+01 1.1750000e+01]\n",
            "   [7.2500000e+00 1.4250000e+01 7.2500000e+00]]\n",
            "\n",
            "  ...\n",
            "\n",
            "  [[5.0000000e+00 9.0000000e+00 8.0000000e+00]\n",
            "   [1.2250000e+01 1.8250000e+01 1.1750000e+01]\n",
            "   [1.7500000e+01 2.2000000e+01 1.9500000e+01]\n",
            "   ...\n",
            "   [1.3450000e+02 1.4150000e+02 1.5150000e+02]\n",
            "   [1.2300000e+02 1.2850000e+02 1.3900000e+02]\n",
            "   [1.0850000e+02 1.1750000e+02 1.2650000e+02]]\n",
            "\n",
            "  [[2.2500000e+00 1.1250000e+01 8.2500000e+00]\n",
            "   [8.2500000e+00 1.3250000e+01 1.1750000e+01]\n",
            "   [1.6750000e+01 2.1250000e+01 1.8750000e+01]\n",
            "   ...\n",
            "   [1.3175000e+02 1.3875000e+02 1.4875000e+02]\n",
            "   [1.1825000e+02 1.2625000e+02 1.3925000e+02]\n",
            "   [1.0525000e+02 1.1325000e+02 1.2625000e+02]]\n",
            "\n",
            "  [[2.5000000e+00 1.1500000e+01 6.5000000e+00]\n",
            "   [5.7500000e+00 1.1750000e+01 8.7500000e+00]\n",
            "   [1.2500000e+01 1.7500000e+01 1.3500000e+01]\n",
            "   ...\n",
            "   [1.2850000e+02 1.3550000e+02 1.4550000e+02]\n",
            "   [1.1425000e+02 1.2025000e+02 1.3425000e+02]\n",
            "   [1.0100000e+02 1.0900000e+02 1.2200000e+02]]]\n",
            "\n",
            "\n",
            " ...\n",
            "\n",
            "\n",
            " [[[5.1250000e+01 4.0750000e+01 3.8750000e+01]\n",
            "   [2.5250000e+01 1.5500000e+01 1.7750000e+01]\n",
            "   [1.3250000e+01 7.7500000e+00 1.1250000e+01]\n",
            "   ...\n",
            "   [8.2500000e+00 4.7500000e+00 1.0250000e+01]\n",
            "   [1.1500000e+01 6.2500000e+00 1.0250000e+01]\n",
            "   [4.1750000e+01 2.5750000e+01 1.9750000e+01]]\n",
            "\n",
            "  [[7.2500000e+00 6.2500000e+00 1.2250000e+01]\n",
            "   [7.2500000e+00 4.2500000e+00 1.1250000e+01]\n",
            "   [6.7500000e+00 3.7500000e+00 1.0750000e+01]\n",
            "   ...\n",
            "   [1.2000000e+01 9.5000000e+00 1.3750000e+01]\n",
            "   [1.5000000e+01 1.1000000e+01 1.2000000e+01]\n",
            "   [4.5000000e+01 2.2500000e+01 2.1000000e+01]]\n",
            "\n",
            "  [[6.0000000e+00 4.0000000e+00 9.0000000e+00]\n",
            "   [5.5000000e+00 4.5000000e+00 9.5000000e+00]\n",
            "   [7.0000000e+00 4.0000000e+00 1.1000000e+01]\n",
            "   ...\n",
            "   [7.4000000e+01 4.2000000e+01 3.2000000e+01]\n",
            "   [9.0000000e+00 7.5000000e+00 1.2250000e+01]\n",
            "   [7.3750000e+01 5.2250000e+01 4.4750000e+01]]\n",
            "\n",
            "  ...\n",
            "\n",
            "  [[1.7225000e+02 1.5175000e+02 1.2925000e+02]\n",
            "   [1.7650000e+02 1.5800000e+02 1.3400000e+02]\n",
            "   [1.8225000e+02 1.6025000e+02 1.3675000e+02]\n",
            "   ...\n",
            "   [2.2650000e+02 1.8850000e+02 1.5950000e+02]\n",
            "   [2.2750000e+02 1.9375000e+02 1.6000000e+02]\n",
            "   [2.3300000e+02 1.9800000e+02 1.6600000e+02]]\n",
            "\n",
            "  [[1.6075000e+02 1.3900000e+02 1.1025000e+02]\n",
            "   [1.7275000e+02 1.5225000e+02 1.2625000e+02]\n",
            "   [1.7925000e+02 1.5625000e+02 1.3925000e+02]\n",
            "   ...\n",
            "   [2.2900000e+02 1.9500000e+02 1.6150000e+02]\n",
            "   [2.3050000e+02 1.9650000e+02 1.6350000e+02]\n",
            "   [2.3125000e+02 1.9925000e+02 1.6125000e+02]]\n",
            "\n",
            "  [[1.5050000e+02 1.2975000e+02 9.5000000e+01]\n",
            "   [1.6025000e+02 1.3850000e+02 1.1175000e+02]\n",
            "   [1.6475000e+02 1.4375000e+02 1.1375000e+02]\n",
            "   ...\n",
            "   [2.2575000e+02 1.9525000e+02 1.6600000e+02]\n",
            "   [2.2775000e+02 1.9600000e+02 1.6725000e+02]\n",
            "   [2.3200000e+02 2.0100000e+02 1.7000000e+02]]]\n",
            "\n",
            "\n",
            " [[[3.0250000e+01 1.6250000e+01 3.2500000e+00]\n",
            "   [4.0000000e+01 2.3000000e+01 8.5000000e+00]\n",
            "   [3.9750000e+01 2.3250000e+01 7.2500000e+00]\n",
            "   ...\n",
            "   [5.9750000e+01 3.8500000e+01 1.4750000e+01]\n",
            "   [5.0250000e+01 2.9250000e+01 1.2000000e+01]\n",
            "   [5.6750000e+01 3.3750000e+01 2.0500000e+01]]\n",
            "\n",
            "  [[2.8500000e+01 1.4500000e+01 2.0000000e+00]\n",
            "   [4.1250000e+01 2.3750000e+01 8.7500000e+00]\n",
            "   [3.1750000e+01 1.8250000e+01 5.0000000e-01]\n",
            "   ...\n",
            "   [2.2425000e+02 1.7475000e+02 8.0500000e+01]\n",
            "   [4.6500000e+01 3.3750000e+01 1.3000000e+01]\n",
            "   [5.5250000e+01 2.9250000e+01 1.3750000e+01]]\n",
            "\n",
            "  [[3.0000000e+01 1.4000000e+01 2.5000000e-01]\n",
            "   [3.8000000e+01 2.1750000e+01 3.2500000e+00]\n",
            "   [2.2125000e+02 1.8875000e+02 1.1325000e+02]\n",
            "   ...\n",
            "   [2.1775000e+02 1.7425000e+02 9.7750000e+01]\n",
            "   [2.1300000e+02 1.5750000e+02 4.0000000e+01]\n",
            "   [2.1225000e+02 1.8275000e+02 1.3575000e+02]]\n",
            "\n",
            "  ...\n",
            "\n",
            "  [[1.0600000e+02 6.4500000e+01 1.3500000e+01]\n",
            "   [1.3425000e+02 8.4250000e+01 2.2250000e+01]\n",
            "   [1.9425000e+02 1.5075000e+02 6.8250000e+01]\n",
            "   ...\n",
            "   [2.1575000e+02 1.7675000e+02 1.1025000e+02]\n",
            "   [2.1750000e+02 1.7950000e+02 1.1650000e+02]\n",
            "   [2.1575000e+02 1.8125000e+02 1.1350000e+02]]\n",
            "\n",
            "  [[1.9975000e+02 1.6050000e+02 9.0250000e+01]\n",
            "   [2.1250000e+02 1.6725000e+02 9.3500000e+01]\n",
            "   [2.1025000e+02 1.7525000e+02 1.0775000e+02]\n",
            "   ...\n",
            "   [1.5750000e+02 1.0900000e+02 4.4000000e+01]\n",
            "   [2.0650000e+02 1.6450000e+02 1.0650000e+02]\n",
            "   [2.0575000e+02 1.7175000e+02 1.1050000e+02]]\n",
            "\n",
            "  [[1.9600000e+02 1.5475000e+02 8.0500000e+01]\n",
            "   [2.1275000e+02 1.7075000e+02 9.8750000e+01]\n",
            "   [2.0800000e+02 1.7000000e+02 9.6000000e+01]\n",
            "   ...\n",
            "   [2.1525000e+02 1.7700000e+02 1.1300000e+02]\n",
            "   [1.9825000e+02 1.7375000e+02 1.0975000e+02]\n",
            "   [2.1450000e+02 1.8250000e+02 1.2775000e+02]]]\n",
            "\n",
            "\n",
            " [[[4.5250000e+01 2.0750000e+01 7.2500000e+00]\n",
            "   [4.8250000e+01 1.6250000e+01 6.5000000e+00]\n",
            "   [1.3325000e+02 1.2625000e+02 1.2500000e+02]\n",
            "   ...\n",
            "   [1.6325000e+02 1.4375000e+02 1.3725000e+02]\n",
            "   [2.2675000e+02 2.2450000e+02 2.1375000e+02]\n",
            "   [2.3000000e+02 2.3875000e+02 2.4775000e+02]]\n",
            "\n",
            "  [[4.1250000e+01 1.7000000e+01 5.5000000e+00]\n",
            "   [9.0500000e+01 8.0000000e+01 7.6500000e+01]\n",
            "   [1.8325000e+02 1.9650000e+02 2.0500000e+02]\n",
            "   ...\n",
            "   [2.3200000e+02 2.3300000e+02 2.3500000e+02]\n",
            "   [2.5425000e+02 2.5425000e+02 2.5425000e+02]\n",
            "   [2.4125000e+02 2.4925000e+02 2.5125000e+02]]\n",
            "\n",
            "  [[4.2000000e+01 1.5500000e+01 8.5000000e+00]\n",
            "   [1.9625000e+02 2.0800000e+02 2.1650000e+02]\n",
            "   [1.9525000e+02 2.0825000e+02 2.1725000e+02]\n",
            "   ...\n",
            "   [2.3900000e+02 2.3850000e+02 2.4200000e+02]\n",
            "   [1.7300000e+02 1.6650000e+02 1.6050000e+02]\n",
            "   [2.3925000e+02 2.4775000e+02 2.4825000e+02]]\n",
            "\n",
            "  ...\n",
            "\n",
            "  [[1.1775000e+02 1.0475000e+02 8.5250000e+01]\n",
            "   [1.0350000e+02 7.5500000e+01 5.1500000e+01]\n",
            "   [1.0450000e+02 7.2500000e+01 4.8500000e+01]\n",
            "   ...\n",
            "   [1.8450000e+02 1.7050000e+02 1.6850000e+02]\n",
            "   [1.7250000e+02 1.5850000e+02 1.5250000e+02]\n",
            "   [1.6575000e+02 1.4350000e+02 1.3325000e+02]]\n",
            "\n",
            "  [[1.1425000e+02 1.0375000e+02 8.4750000e+01]\n",
            "   [1.0850000e+02 8.6750000e+01 6.4250000e+01]\n",
            "   [1.0050000e+02 7.0000000e+01 4.2000000e+01]\n",
            "   ...\n",
            "   [1.7700000e+02 1.6500000e+02 1.6500000e+02]\n",
            "   [1.6475000e+02 1.5075000e+02 1.4525000e+02]\n",
            "   [1.5500000e+02 1.3800000e+02 1.3000000e+02]]\n",
            "\n",
            "  [[1.5975000e+02 1.6175000e+02 1.6625000e+02]\n",
            "   [1.1725000e+02 1.0850000e+02 9.5750000e+01]\n",
            "   [1.1150000e+02 8.5500000e+01 6.0500000e+01]\n",
            "   ...\n",
            "   [1.6925000e+02 1.5675000e+02 1.5325000e+02]\n",
            "   [1.6275000e+02 1.4875000e+02 1.4125000e+02]\n",
            "   [1.5025000e+02 1.3325000e+02 1.2550000e+02]]]]\n",
            "Output batch:\n",
            "[[0. 0. 0. 0. 1. 0.]\n",
            " [0. 0. 0. 0. 1. 0.]\n",
            " [0. 0. 0. 0. 0. 1.]\n",
            " [1. 0. 0. 0. 0. 0.]\n",
            " [0. 0. 1. 0. 0. 0.]\n",
            " [0. 0. 1. 0. 0. 0.]\n",
            " [0. 0. 0. 0. 0. 1.]\n",
            " [1. 0. 0. 0. 0. 0.]\n",
            " [0. 0. 0. 0. 0. 1.]\n",
            " [0. 0. 0. 0. 1. 0.]\n",
            " [0. 0. 0. 0. 0. 1.]\n",
            " [0. 0. 0. 0. 0. 1.]\n",
            " [1. 0. 0. 0. 0. 0.]\n",
            " [0. 0. 1. 0. 0. 0.]\n",
            " [0. 0. 0. 1. 0. 0.]\n",
            " [0. 0. 1. 0. 0. 0.]\n",
            " [0. 0. 1. 0. 0. 0.]\n",
            " [0. 0. 0. 1. 0. 0.]\n",
            " [0. 0. 1. 0. 0. 0.]\n",
            " [0. 0. 0. 0. 0. 1.]\n",
            " [0. 0. 0. 1. 0. 0.]\n",
            " [0. 0. 1. 0. 0. 0.]\n",
            " [1. 0. 0. 0. 0. 0.]\n",
            " [0. 0. 1. 0. 0. 0.]\n",
            " [0. 0. 0. 0. 1. 0.]\n",
            " [0. 0. 0. 0. 0. 1.]\n",
            " [0. 0. 0. 0. 1. 0.]\n",
            " [0. 0. 1. 0. 0. 0.]\n",
            " [0. 0. 0. 1. 0. 0.]\n",
            " [0. 0. 0. 0. 1. 0.]\n",
            " [0. 1. 0. 0. 0. 0.]\n",
            " [0. 0. 0. 0. 1. 0.]\n",
            " [0. 0. 1. 0. 0. 0.]\n",
            " [1. 0. 0. 0. 0. 0.]\n",
            " [0. 0. 0. 1. 0. 0.]\n",
            " [0. 0. 1. 0. 0. 0.]\n",
            " [0. 1. 0. 0. 0. 0.]\n",
            " [0. 0. 1. 0. 0. 0.]\n",
            " [0. 0. 0. 0. 1. 0.]\n",
            " [0. 1. 0. 0. 0. 0.]\n",
            " [0. 0. 1. 0. 0. 0.]\n",
            " [0. 0. 1. 0. 0. 0.]\n",
            " [0. 0. 0. 0. 0. 1.]\n",
            " [0. 0. 0. 0. 0. 1.]\n",
            " [0. 0. 0. 0. 0. 1.]\n",
            " [0. 0. 0. 0. 1. 0.]\n",
            " [0. 0. 0. 0. 1. 0.]\n",
            " [0. 0. 0. 0. 1. 0.]\n",
            " [0. 0. 1. 0. 0. 0.]\n",
            " [0. 0. 0. 0. 0. 1.]\n",
            " [0. 0. 0. 1. 0. 0.]\n",
            " [0. 0. 0. 0. 0. 1.]\n",
            " [0. 0. 0. 0. 1. 0.]\n",
            " [0. 1. 0. 0. 0. 0.]\n",
            " [0. 0. 1. 0. 0. 0.]\n",
            " [0. 0. 0. 1. 0. 0.]\n",
            " [0. 0. 0. 0. 0. 1.]\n",
            " [0. 0. 0. 0. 0. 1.]\n",
            " [0. 0. 1. 0. 0. 0.]\n",
            " [0. 1. 0. 0. 0. 0.]\n",
            " [1. 0. 0. 0. 0. 0.]\n",
            " [0. 0. 0. 1. 0. 0.]\n",
            " [0. 0. 0. 0. 1. 0.]\n",
            " [0. 1. 0. 0. 0. 0.]]\n"
          ],
          "name": "stdout"
        }
      ]
    },
    {
      "cell_type": "markdown",
      "metadata": {
        "id": "K2UaPCEthRJ-"
      },
      "source": [
        "We can see that indeed the generator produces a tensor of the appropriate dimensions with the inputs for the neural network, and that the outputs have also been properly codified in one-hot form. However, there is still an issue with the data: the pixel values are in the range [0, 255], which might produce training problems. We will solve this later in the network definition. For now, let's move on and prepare a funcion that builds the training, validation and test datasets."
      ]
    },
    {
      "cell_type": "markdown",
      "metadata": {
        "id": "jTQyBbf-hRJ-"
      },
      "source": [
        "<img src=\"https://albarji-labs-materials.s3-eu-west-1.amazonaws.com/question.png\" height=\"80\" width=\"80\" style=\"float: right;\"/>\n",
        "\n",
        "***\n",
        "\n",
        "<font color=#ad3e26>\n",
        "    Create a function <b>create_datasets</b> that receives the following parameters:\n",
        "    <ul>\n",
        "      <li><b>traindir</b>: the directory where training images are located.</li>\n",
        "      <li><b>valdir</b>: the directory where validation images are located.</li>\n",
        "      <li><b>testdir</b>: the directory where test images are located.</li>\n",
        "      <li><b>image_size</b>: the size that will be used to resize all the images to a common resolution.</li>\n",
        "      <li><b>batch_size</b>: the size of the batches of images to be generated.</li>\n",
        "    </ul>\n",
        "    The function must create datasets for the training, validation and test directories, and return the three datasets created.\n",
        "\n",
        "    return train_dataset, val_dataset, test_dataset\n",
        "</font>\n",
        "\n",
        "***"
      ]
    },
    {
      "cell_type": "code",
      "metadata": {
        "id": "D-wm19eJhRJ-"
      },
      "source": [
        "####### INSERT YOUR CODE HERE\n",
        "def create_datasets(TRAINDIR,VALDIR,TESTDIR,image_size,batch_size):\n",
        "    image_size = image_size\n",
        "    batch_size = batch_size\n",
        "\n",
        "    train_dataset = image_dataset_from_directory(\n",
        "    TRAINDIR, \n",
        "    image_size = (image_size, image_size),\n",
        "    batch_size = batch_size, \n",
        "    label_mode = 'categorical')\n",
        "\n",
        "    val_dataset = image_dataset_from_directory(\n",
        "    VALDIR,\n",
        "    image_size = (image_size, image_size),\n",
        "    batch_size = batch_size, \n",
        "    label_mode = 'categorical')\n",
        "\n",
        "    test_dataset = image_dataset_from_directory(\n",
        "    TESTDIR,\n",
        "    image_size = (image_size, image_size),\n",
        "    batch_size = batch_size, \n",
        "    label_mode = 'categorical')\n",
        "\n",
        "    return train_dataset, val_dataset, test_dataset\n",
        "    \n",
        "\n",
        "      \n",
        "    \n"
      ],
      "execution_count": null,
      "outputs": []
    },
    {
      "cell_type": "markdown",
      "metadata": {
        "id": "5wGaULQsjwJz"
      },
      "source": [
        "Let's test if the function you just implemented works correctly"
      ]
    },
    {
      "cell_type": "code",
      "metadata": {
        "colab": {
          "base_uri": "https://localhost:8080/"
        },
        "id": "JtZlNbHhiOIR",
        "outputId": "e668b4c5-0961-49d7-f786-d68db47cf4c1"
      },
      "source": [
        "import tensorflow as tf\n",
        "\n",
        "train_dataset, val_dataset, test_dataset = create_datasets(TRAINDIR, VALDIR, TESTDIR, image_size=32, batch_size=64)\n",
        "\n",
        "# Test whether all returned objects are valid Tensorflow datasets\n",
        "assert isinstance(train_dataset, tf.data.Dataset)\n",
        "assert isinstance(val_dataset, tf.data.Dataset)\n",
        "assert isinstance(test_dataset, tf.data.Dataset)"
      ],
      "execution_count": null,
      "outputs": [
        {
          "output_type": "stream",
          "text": [
            "Found 6082 files belonging to 6 classes.\n",
            "Found 2108 files belonging to 6 classes.\n",
            "Found 2070 files belonging to 6 classes.\n"
          ],
          "name": "stdout"
        }
      ]
    },
    {
      "cell_type": "markdown",
      "metadata": {
        "id": "LLIo6LBfhRJ-"
      },
      "source": [
        "Now that we have our datasets we can train a deep learning model using them! For illustration purposes, let's build an extremely simple convolutional network. Note how we have added a special pre-processing layer `Rescaling` that takes care of normalizing the data to the range [0, 1].\n",
        "\n",
        "Be careful! This network will work, but has some flaws in its design you might want to fix in the network you will desing later in this notebook."
      ]
    },
    {
      "cell_type": "code",
      "metadata": {
        "id": "1MCnNMT3Q_ID"
      },
      "source": [
        "from keras.models import Sequential\n",
        "from keras.layers.core import Dense, Activation, Flatten, Dropout\n",
        "from keras.layers.convolutional import Convolution2D, Conv2D, MaxPooling2D\n",
        "from keras.layers.experimental.preprocessing import Rescaling, RandomFlip, RandomCrop, RandomTranslation, RandomRotation, RandomZoom"
      ],
      "execution_count": null,
      "outputs": []
    },
    {
      "cell_type": "code",
      "metadata": {
        "id": "gbwmYJiLhRJ_"
      },
      "source": [
        "from keras.models import Sequential\n",
        "from keras.layers.core import Dense, Activation, Flatten, Dropout\n",
        "from keras.layers.convolutional import Convolution2D, MaxPooling2D\n",
        "from keras.layers.experimental.preprocessing import *\n",
        "from keras.preprocessing.image import ImageDataGenerator\n",
        "from keras.layers import BatchNormalization, Activation\n",
        "\n",
        "model = Sequential()\n",
        "model.add(Rescaling(scale=1./255, input_shape=(image_size, image_size, 3)))\n",
        "model.add(Convolution2D(4, 3, activation='linear'))\n",
        "model.add(Flatten())\n",
        "model.add(Dense(6, activation='sigmoid'))\n",
        "\n",
        "model.compile(loss='categorical_crossentropy', optimizer='sgd', metrics=[\"accuracy\"])"
      ],
      "execution_count": null,
      "outputs": []
    },
    {
      "cell_type": "markdown",
      "metadata": {
        "id": "4v9OxA-AhRJ_"
      },
      "source": [
        "The `fit` method of a Keras model can receive a `Dataset` with training data, instead of a pair of tensors with (inputs, outputs). Since when building the `Dataset` we already specified the batch size, we don't need to do it now."
      ]
    },
    {
      "cell_type": "code",
      "metadata": {
        "id": "_ZXjs6CghRKA"
      },
      "source": [
        "history = model.fit(train_dataset, epochs=4, validation_data = val_dataset )"
      ],
      "execution_count": null,
      "outputs": []
    },
    {
      "cell_type": "code",
      "metadata": {
        "colab": {
          "base_uri": "https://localhost:8080/",
          "height": 295
        },
        "id": "UJVSfOR2hVZA",
        "outputId": "fa3d0110-7021-4e0a-f4a8-2f56614c8584"
      },
      "source": [
        "import matplotlib.pyplot as plt\n",
        "plt.plot(history.history['accuracy'], label='accuracy (training data)')\n",
        "plt.plot(history.history['val_accuracy'], label='accuracy (validation data)')\n",
        "plt.title('acurracy for Images')\n",
        "plt.ylabel('accuracy value')\n",
        "plt.xlabel('No. epoch')\n",
        "plt.legend(loc=\"upper left\")\n",
        "plt.show()"
      ],
      "execution_count": null,
      "outputs": [
        {
          "output_type": "display_data",
          "data": {
            "image/png": "[encoded data removed]",
            "text/plain": [
              "<Figure size 432x288 with 1 Axes>"
            ]
          },
          "metadata": {
            "tags": [],
            "needs_background": "light"
          }
        }
      ]
    },
    {
      "cell_type": "markdown",
      "metadata": {
        "id": "T_ux64pchRKA"
      },
      "source": [
        "Similarly, we can evaluate the performance of our model over our test `Dataset` as follows"
      ]
    },
    {
      "cell_type": "code",
      "metadata": {
        "colab": {
          "base_uri": "https://localhost:8080/"
        },
        "id": "Q_kQhkY-hRKA",
        "outputId": "442296bd-f2a7-4fd7-c4b7-85ebd42a3852"
      },
      "source": [
        "loss, acc = model.evaluate(test_dataset)\n",
        "print(f\"Loss {loss:.3}, accuracy {acc:.1%}\")"
      ],
      "execution_count": null,
      "outputs": [
        {
          "output_type": "stream",
          "text": [
            "33/33 [==============================] - 6s 142ms/step - loss: 2.1258 - accuracy: 0.2097\n",
            "Loss 2.13, accuracy 21.0%\n"
          ],
          "name": "stdout"
        }
      ]
    },
    {
      "cell_type": "markdown",
      "metadata": {
        "id": "AlXf9OBehRKB"
      },
      "source": [
        "The accuracy might seem poor, but take into account we have used a very simple model and this problem has 6 classes. Will you be able to do better?"
      ]
    },
    {
      "cell_type": "markdown",
      "metadata": {
        "id": "1kZnaNQIhRKB"
      },
      "source": [
        "## Building your network"
      ]
    },
    {
      "cell_type": "markdown",
      "metadata": {
        "id": "uNd8dC2whRKB"
      },
      "source": [
        "<img src=\"https://albarji-labs-materials.s3-eu-west-1.amazonaws.com/question.png\" height=\"80\" width=\"80\" style=\"float: right;\"/>\n",
        "\n",
        "***\n",
        "\n",
        "<font color=#ad3e26>\n",
        "    Design a neural network that maximizes the accuracy over the test data. You can use the training and validation datasets for anything you like, but you can <b>only</b> use the test data to evaluate the model performance. You should obtain a network able to attain at least 40% accuracy over the test set.\n",
        "</font>\n",
        "\n",
        "***"
      ]
    },
    {
      "cell_type": "markdown",
      "metadata": {
        "id": "s9C9GNYihRKC"
      },
      "source": [
        "<img src=\"https://albarji-labs-materials.s3-eu-west-1.amazonaws.com/exclamation.png\" height=\"80\" width=\"80\" style=\"float: right;\"/>\n",
        "\n",
        "***\n",
        "<font color=#2655ad>\n",
        "    \n",
        "Some tips and strategies that can help you optimize your network design:\n",
        "\n",
        "    \n",
        "- Make use of all the tricks you learned from previous notebooks: convolutional + pooling layers, ReLU activations, dropout... also make sure to use a good optimizer with an adequate loss function, as well as the correct activation for the output layer.\n",
        "- Configuring the datasets to load the images with a larger size can significantly improve your performance. But be careful, you can also run out of memory (CUDA memory error) if they become too large! Note that for this problem a size larger than 256 might be too large.\n",
        "- Start with networks with a small number of parameters, so you are able to check fast how well they work. Then you can make your network larger in three directions: larger input images, more layers and more kernels per convolutional layer or units per dense layer. If you use larger images make sure to add more Convolution+Pooling layers, so that only very small images (less than 10x10 pixels) arrive at the Flatten layer.\n",
        "- If you see large differences in loss between your training data and your validation or test data, try increasing the Dropout probabilities, especially for the Dense layers.\n",
        "- Make use of that validation data! For instance, use an <a href=\"https://keras.io/api/callbacks/early_stopping/\">**EarlyStopping strategy**</a> to monitor the loss of these validation data, and stop when training when after a number of iterations such loss has not decreased. Configuring the EarlyStopping to restore the best weights found in the optimization is also useful.\n",
        "</font>\n",
        "\n",
        "***"
      ]
    },
    {
      "cell_type": "markdown",
      "metadata": {
        "id": "ssDs0SGghRKC"
      },
      "source": [
        "<img src=\"https://albarji-labs-materials.s3-eu-west-1.amazonaws.com/pro.png\" height=\"80\" width=\"80\" style=\"float: right;\"/>\n",
        "\n",
        "***\n",
        "<font color=#259b4c>\n",
        "    \n",
        "Other advanced strategies you can try are:\n",
        "\n",
        "- Use **image augmentation techniques** to artifically create new training images. To do so, explore the rest of layers available in the <a href=\"https://keras.io/api/layers/preprocessing_layers/image_preprocessing/\">Keras Image Preprocessing module</a>.\n",
        "- Use <a href=\"https://keras.io/api/layers/normalization_layers/batch_normalization/\">BatchNormalization</a> layers to improve the optimization procedure.\n",
        "    \n",
        "It you use all the tricks, it is possible to obtain more than 60% accuracy in the test set.\n",
        "\n",
        "</font>\n",
        "\n",
        "***"
      ]
    },
    {
      "cell_type": "code",
      "metadata": {
        "colab": {
          "base_uri": "https://localhost:8080/"
        },
        "id": "kEK2fIbv1Mi3",
        "outputId": "2e99425d-5d75-4cc1-924d-4f52708e56ad"
      },
      "source": [
        "print(image_size)"
      ],
      "execution_count": null,
      "outputs": [
        {
          "output_type": "stream",
          "text": [
            "32\n"
          ],
          "name": "stdout"
        }
      ]
    },
    {
      "cell_type": "code",
      "metadata": {
        "colab": {
          "base_uri": "https://localhost:8080/"
        },
        "id": "LBvCUie2w1BE",
        "outputId": "6f9ad924-8c48-4209-9598-5103b86484c1"
      },
      "source": [
        "train_dataset, val_dataset, test_dataset = create_datasets(TRAINDIR, VALDIR, TESTDIR, image_size=128, batch_size=256)"
      ],
      "execution_count": null,
      "outputs": [
        {
          "output_type": "stream",
          "text": [
            "Found 6082 files belonging to 6 classes.\n",
            "Found 2108 files belonging to 6 classes.\n",
            "Found 2070 files belonging to 6 classes.\n"
          ],
          "name": "stdout"
        }
      ]
    },
    {
      "cell_type": "code",
      "metadata": {
        "id": "ko90Og6g0QtO"
      },
      "source": [
        "from keras.callbacks import EarlyStopping\n",
        "es = tf.keras.callbacks.EarlyStopping(\n",
        "    monitor=\"val_loss\",\n",
        "    min_delta = 0.01,\n",
        "    patience=10,\n",
        "    verbose=1,\n",
        "    mode=\"min\",\n",
        "    restore_best_weights=True\n",
        "    \n",
        ")"
      ],
      "execution_count": null,
      "outputs": []
    },
    {
      "cell_type": "code",
      "metadata": {
        "colab": {
          "base_uri": "https://localhost:8080/"
        },
        "id": "i2JOEB7GzgAV",
        "outputId": "56abd661-05d6-4383-a4a2-b99e3057af2d"
      },
      "source": [
        "image_size=128\n",
        "\n",
        "model = Sequential()\n",
        "model.add(Rescaling(scale=1./255, input_shape=(image_size, image_size, 3)))\n",
        "model.add(Convolution2D(16, (3,3), padding='valid', activation='relu'))\n",
        "model.add(MaxPooling2D(pool_size=(2,2)))\n",
        "model.add(Convolution2D(16, (3,3), padding='valid', activation='relu'))\n",
        "model.add(MaxPooling2D(pool_size=(2,2)))\n",
        "model.add(Flatten())\n",
        "\n",
        "model.add(Dense(100, activation='relu'))\n",
        "model.add(Dropout(0.75))\n",
        "model.add(Dense(6, activation='softmax'))\n",
        "model.compile(loss='categorical_crossentropy', optimizer='adam', metrics=[\"accuracy\"])\n",
        "history = model.fit(train_dataset, epochs=100, validation_data = val_dataset, callbacks=[es] )"
      ],
      "execution_count": null,
      "outputs": [
        {
          "output_type": "stream",
          "text": [
            "Epoch 1/100\n",
            "24/24 [==============================] - 49s 617ms/step - loss: 1.9206 - accuracy: 0.2143 - val_loss: 1.7309 - val_accuracy: 0.2842\n",
            "Epoch 2/100\n",
            "24/24 [==============================] - 16s 544ms/step - loss: 1.7412 - accuracy: 0.2430 - val_loss: 1.6619 - val_accuracy: 0.2979\n",
            "Epoch 3/100\n",
            "24/24 [==============================] - 17s 581ms/step - loss: 1.6809 - accuracy: 0.2518 - val_loss: 1.6132 - val_accuracy: 0.3102\n",
            "Epoch 4/100\n",
            "24/24 [==============================] - 17s 565ms/step - loss: 1.6279 - accuracy: 0.2855 - val_loss: 1.6036 - val_accuracy: 0.3159\n",
            "Epoch 5/100\n",
            "24/24 [==============================] - 17s 559ms/step - loss: 1.6080 - accuracy: 0.3023 - val_loss: 1.5958 - val_accuracy: 0.3311\n",
            "Epoch 6/100\n",
            "24/24 [==============================] - 17s 560ms/step - loss: 1.5875 - accuracy: 0.3041 - val_loss: 1.5441 - val_accuracy: 0.3425\n",
            "Epoch 7/100\n",
            "24/24 [==============================] - 17s 556ms/step - loss: 1.5677 - accuracy: 0.3306 - val_loss: 1.5530 - val_accuracy: 0.3430\n",
            "Epoch 8/100\n",
            "24/24 [==============================] - 16s 539ms/step - loss: 1.5385 - accuracy: 0.3475 - val_loss: 1.5204 - val_accuracy: 0.3695\n",
            "Epoch 9/100\n",
            "24/24 [==============================] - 17s 576ms/step - loss: 1.5280 - accuracy: 0.3356 - val_loss: 1.5008 - val_accuracy: 0.4013\n",
            "Epoch 10/100\n",
            "24/24 [==============================] - 16s 540ms/step - loss: 1.5025 - accuracy: 0.3492 - val_loss: 1.5190 - val_accuracy: 0.4037\n",
            "Epoch 11/100\n",
            "24/24 [==============================] - 17s 571ms/step - loss: 1.5145 - accuracy: 0.3505 - val_loss: 1.5115 - val_accuracy: 0.4132\n",
            "Epoch 12/100\n",
            "24/24 [==============================] - 17s 584ms/step - loss: 1.4722 - accuracy: 0.3696 - val_loss: 1.4748 - val_accuracy: 0.4236\n",
            "Epoch 13/100\n",
            "24/24 [==============================] - 17s 585ms/step - loss: 1.4609 - accuracy: 0.3838 - val_loss: 1.4607 - val_accuracy: 0.4464\n",
            "Epoch 14/100\n",
            "24/24 [==============================] - 17s 578ms/step - loss: 1.4287 - accuracy: 0.3981 - val_loss: 1.4662 - val_accuracy: 0.4379\n",
            "Epoch 15/100\n",
            "24/24 [==============================] - 17s 580ms/step - loss: 1.4252 - accuracy: 0.3868 - val_loss: 1.4355 - val_accuracy: 0.4341\n",
            "Epoch 16/100\n",
            "24/24 [==============================] - 17s 584ms/step - loss: 1.4080 - accuracy: 0.4034 - val_loss: 1.4529 - val_accuracy: 0.4421\n",
            "Epoch 17/100\n",
            "24/24 [==============================] - 17s 585ms/step - loss: 1.4000 - accuracy: 0.4059 - val_loss: 1.4308 - val_accuracy: 0.4288\n",
            "Epoch 18/100\n",
            "24/24 [==============================] - 17s 583ms/step - loss: 1.3919 - accuracy: 0.4101 - val_loss: 1.4381 - val_accuracy: 0.4303\n",
            "Epoch 19/100\n",
            "24/24 [==============================] - 17s 587ms/step - loss: 1.3736 - accuracy: 0.4109 - val_loss: 1.4488 - val_accuracy: 0.4469\n",
            "Epoch 20/100\n",
            "24/24 [==============================] - 18s 595ms/step - loss: 1.3746 - accuracy: 0.4101 - val_loss: 1.4281 - val_accuracy: 0.4398\n",
            "Epoch 21/100\n",
            "24/24 [==============================] - 17s 575ms/step - loss: 1.3368 - accuracy: 0.4254 - val_loss: 1.4170 - val_accuracy: 0.4445\n",
            "Epoch 22/100\n",
            "24/24 [==============================] - 17s 585ms/step - loss: 1.3441 - accuracy: 0.4227 - val_loss: 1.4240 - val_accuracy: 0.4478\n",
            "Epoch 23/100\n",
            "24/24 [==============================] - 17s 583ms/step - loss: 1.3267 - accuracy: 0.4333 - val_loss: 1.4434 - val_accuracy: 0.4431\n",
            "Epoch 24/100\n",
            "24/24 [==============================] - 17s 591ms/step - loss: 1.2863 - accuracy: 0.4442 - val_loss: 1.4339 - val_accuracy: 0.4241\n",
            "Epoch 25/100\n",
            "24/24 [==============================] - 17s 592ms/step - loss: 1.2893 - accuracy: 0.4523 - val_loss: 1.4248 - val_accuracy: 0.4379\n",
            "Epoch 26/100\n",
            "24/24 [==============================] - 17s 588ms/step - loss: 1.2666 - accuracy: 0.4572 - val_loss: 1.4267 - val_accuracy: 0.4288\n",
            "Epoch 27/100\n",
            "24/24 [==============================] - 17s 589ms/step - loss: 1.2608 - accuracy: 0.4546 - val_loss: 1.4462 - val_accuracy: 0.4279\n",
            "Epoch 28/100\n",
            "24/24 [==============================] - 17s 586ms/step - loss: 1.2404 - accuracy: 0.4749 - val_loss: 1.4139 - val_accuracy: 0.4450\n",
            "Epoch 29/100\n",
            "24/24 [==============================] - 18s 594ms/step - loss: 1.2346 - accuracy: 0.4622 - val_loss: 1.4219 - val_accuracy: 0.4431\n",
            "Epoch 30/100\n",
            "24/24 [==============================] - 18s 593ms/step - loss: 1.2215 - accuracy: 0.4660 - val_loss: 1.4270 - val_accuracy: 0.4364\n",
            "Epoch 31/100\n",
            "24/24 [==============================] - 17s 587ms/step - loss: 1.2109 - accuracy: 0.4630 - val_loss: 1.4610 - val_accuracy: 0.4421\n",
            "Restoring model weights from the end of the best epoch.\n",
            "Epoch 00031: early stopping\n"
          ],
          "name": "stdout"
        }
      ]
    },
    {
      "cell_type": "code",
      "metadata": {
        "colab": {
          "base_uri": "https://localhost:8080/",
          "height": 295
        },
        "id": "MQU_W4w_1-jq",
        "outputId": "847056f2-7e07-40a0-d80d-8c6b9c6d8aca"
      },
      "source": [
        "import matplotlib.pyplot as plt\n",
        "plt.plot(history.history['accuracy'], label='accuracy (training data)')\n",
        "plt.plot(history.history['val_accuracy'], label='accuracy (validation data)')\n",
        "plt.title('acurracy for Images')\n",
        "plt.ylabel('accuracy value')\n",
        "plt.xlabel('No. epoch')\n",
        "plt.legend(loc=\"upper left\")\n",
        "plt.show()"
      ],
      "execution_count": null,
      "outputs": [
        {
          "output_type": "display_data",
          "data": {
            "image/png": "[encoded data removed]",
            "text/plain": [
              "<Figure size 432x288 with 1 Axes>"
            ]
          },
          "metadata": {
            "tags": [],
            "needs_background": "light"
          }
        }
      ]
    },
    {
      "cell_type": "code",
      "metadata": {
        "colab": {
          "base_uri": "https://localhost:8080/"
        },
        "id": "dV41Gxj62Gdp",
        "outputId": "e95b5eba-899f-48fa-db98-cc7784363c2c"
      },
      "source": [
        "loss, acc = model.evaluate(test_dataset)\n",
        "print(f\"Loss {loss:.3}, accuracy {acc:.1%}\")"
      ],
      "execution_count": null,
      "outputs": [
        {
          "output_type": "stream",
          "text": [
            "9/9 [==============================] - 5s 57ms/step - loss: 1.4774 - accuracy: 0.4198\n",
            "Loss 1.48, accuracy 42.0%\n"
          ],
          "name": "stdout"
        }
      ]
    },
    {
      "cell_type": "code",
      "metadata": {
        "id": "qx27FmkO3SgC"
      },
      "source": [
        "image_size=128\n",
        "model = Sequential()\n",
        "model.add(RandomFlip(mode='horizontal'))\n",
        "model.add(RandomZoom( height_factor=(-0.6,0.6), width_factor=(-0.6,0.6)))\n",
        "# model.add(RandomRotation(factor= (-0.6,0.6)))\n",
        "\n",
        "\n",
        "model.add(Rescaling(scale=1./255, input_shape=(image_size, image_size, 3)))\n",
        "\n",
        "model.add(Convolution2D(16, (3,3), padding='valid', activation='relu'))\n",
        "model.add(MaxPooling2D(pool_size=(2,2)))\n",
        "\n",
        "\n",
        "model.add(Convolution2D(32, (6,6), padding='valid', activation='relu'))\n",
        "model.add(MaxPooling2D(pool_size=(2,2)))\n",
        "\n",
        "model.add(Convolution2D(64, (3,3), padding='valid', activation = 'relu'))\n",
        "model.add(MaxPooling2D(pool_size=(12,12)))\n",
        "\n",
        "\n",
        "model.add(Flatten())\n",
        "model.add(Dense(2000, activation='relu'))\n",
        "model.add(Dropout(0.25))\n",
        "model.add(Dense(1024, activation='relu'))\n",
        "model.add(Dropout(0.25))\n",
        "model.add(Dense(514, activation='relu'))\n",
        "model.add(Dropout(0.25))\n",
        "model.add(Dense(64, activation='relu'))\n",
        "model.add(Dropout(0.25))\n",
        "model.add(Dense(6, activation='softmax'))\n",
        "\n",
        "model.compile(loss='categorical_crossentropy', optimizer='adam', metrics=[\"accuracy\"])"
      ],
      "execution_count": null,
      "outputs": []
    },
    {
      "cell_type": "code",
      "metadata": {
        "colab": {
          "base_uri": "https://localhost:8080/"
        },
        "id": "RGExrHot3zBX",
        "outputId": "e0621c14-3ba9-4607-d2c2-984360de7a79"
      },
      "source": [
        "history = model.fit(train_dataset, epochs=100, validation_data = val_dataset, callbacks=[es] )"
      ],
      "execution_count": null,
      "outputs": [
        {
          "output_type": "stream",
          "text": [
            "Epoch 1/100\n",
            "24/24 [==============================] - 21s 686ms/step - loss: 1.7524 - accuracy: 0.2318 - val_loss: 1.6889 - val_accuracy: 0.2391\n",
            "Epoch 2/100\n",
            "24/24 [==============================] - 19s 660ms/step - loss: 1.6930 - accuracy: 0.2507 - val_loss: 1.6138 - val_accuracy: 0.3240\n",
            "Epoch 3/100\n",
            "24/24 [==============================] - 19s 647ms/step - loss: 1.5979 - accuracy: 0.3303 - val_loss: 1.4664 - val_accuracy: 0.4118\n",
            "Epoch 4/100\n",
            "24/24 [==============================] - 19s 636ms/step - loss: 1.5434 - accuracy: 0.3555 - val_loss: 1.4658 - val_accuracy: 0.4198\n",
            "Epoch 5/100\n",
            "24/24 [==============================] - 19s 638ms/step - loss: 1.4735 - accuracy: 0.3995 - val_loss: 1.3911 - val_accuracy: 0.4473\n",
            "Epoch 6/100\n",
            "24/24 [==============================] - 18s 634ms/step - loss: 1.4429 - accuracy: 0.4196 - val_loss: 1.3551 - val_accuracy: 0.4730\n",
            "Epoch 7/100\n",
            "24/24 [==============================] - 19s 641ms/step - loss: 1.4051 - accuracy: 0.4307 - val_loss: 1.3185 - val_accuracy: 0.4739\n",
            "Epoch 8/100\n",
            "24/24 [==============================] - 19s 642ms/step - loss: 1.3731 - accuracy: 0.4461 - val_loss: 1.3215 - val_accuracy: 0.4701\n",
            "Epoch 9/100\n",
            "24/24 [==============================] - 19s 634ms/step - loss: 1.3575 - accuracy: 0.4603 - val_loss: 1.3158 - val_accuracy: 0.4858\n",
            "Epoch 10/100\n",
            "24/24 [==============================] - 19s 649ms/step - loss: 1.3425 - accuracy: 0.4718 - val_loss: 1.2759 - val_accuracy: 0.5052\n",
            "Epoch 11/100\n",
            "24/24 [==============================] - 19s 643ms/step - loss: 1.3087 - accuracy: 0.4921 - val_loss: 1.2919 - val_accuracy: 0.4934\n",
            "Epoch 12/100\n",
            "24/24 [==============================] - 19s 644ms/step - loss: 1.2928 - accuracy: 0.4871 - val_loss: 1.2518 - val_accuracy: 0.5057\n",
            "Epoch 13/100\n",
            "24/24 [==============================] - 19s 643ms/step - loss: 1.2983 - accuracy: 0.4930 - val_loss: 1.2360 - val_accuracy: 0.5190\n",
            "Epoch 14/100\n",
            "24/24 [==============================] - 19s 646ms/step - loss: 1.2635 - accuracy: 0.4950 - val_loss: 1.2612 - val_accuracy: 0.5147\n",
            "Epoch 15/100\n",
            "24/24 [==============================] - 19s 642ms/step - loss: 1.2392 - accuracy: 0.5139 - val_loss: 1.3315 - val_accuracy: 0.4891\n",
            "Epoch 16/100\n",
            "24/24 [==============================] - 19s 654ms/step - loss: 1.2523 - accuracy: 0.4980 - val_loss: 1.2077 - val_accuracy: 0.5289\n",
            "Epoch 17/100\n",
            "24/24 [==============================] - 19s 647ms/step - loss: 1.2104 - accuracy: 0.5185 - val_loss: 1.2102 - val_accuracy: 0.5422\n",
            "Epoch 18/100\n",
            "24/24 [==============================] - 19s 642ms/step - loss: 1.1844 - accuracy: 0.5345 - val_loss: 1.1733 - val_accuracy: 0.5517\n",
            "Epoch 19/100\n",
            "24/24 [==============================] - 19s 641ms/step - loss: 1.2062 - accuracy: 0.5281 - val_loss: 1.2448 - val_accuracy: 0.5190\n",
            "Epoch 20/100\n",
            "24/24 [==============================] - 19s 641ms/step - loss: 1.1915 - accuracy: 0.5457 - val_loss: 1.1361 - val_accuracy: 0.5617\n",
            "Epoch 21/100\n",
            "24/24 [==============================] - 19s 640ms/step - loss: 1.1441 - accuracy: 0.5525 - val_loss: 1.1649 - val_accuracy: 0.5655\n",
            "Epoch 22/100\n",
            "24/24 [==============================] - 19s 643ms/step - loss: 1.1430 - accuracy: 0.5553 - val_loss: 1.1497 - val_accuracy: 0.5541\n",
            "Epoch 23/100\n",
            "24/24 [==============================] - 19s 646ms/step - loss: 1.1244 - accuracy: 0.5718 - val_loss: 1.1236 - val_accuracy: 0.5802\n",
            "Epoch 24/100\n",
            "24/24 [==============================] - 19s 648ms/step - loss: 1.1150 - accuracy: 0.5719 - val_loss: 1.1237 - val_accuracy: 0.5754\n",
            "Epoch 25/100\n",
            "24/24 [==============================] - 19s 651ms/step - loss: 1.1127 - accuracy: 0.5848 - val_loss: 1.1199 - val_accuracy: 0.5830\n",
            "Epoch 26/100\n",
            "24/24 [==============================] - 19s 655ms/step - loss: 1.0681 - accuracy: 0.5977 - val_loss: 1.1221 - val_accuracy: 0.5678\n",
            "Epoch 27/100\n",
            "24/24 [==============================] - 19s 645ms/step - loss: 1.0714 - accuracy: 0.6007 - val_loss: 1.0760 - val_accuracy: 0.5987\n",
            "Epoch 28/100\n",
            "24/24 [==============================] - 19s 652ms/step - loss: 1.0782 - accuracy: 0.5885 - val_loss: 1.0721 - val_accuracy: 0.5954\n",
            "Epoch 29/100\n",
            "24/24 [==============================] - 19s 652ms/step - loss: 1.0389 - accuracy: 0.6054 - val_loss: 1.1905 - val_accuracy: 0.5678\n",
            "Epoch 30/100\n",
            "24/24 [==============================] - 19s 652ms/step - loss: 1.0505 - accuracy: 0.5954 - val_loss: 1.0940 - val_accuracy: 0.5887\n",
            "Epoch 31/100\n",
            "24/24 [==============================] - 19s 654ms/step - loss: 1.0400 - accuracy: 0.6094 - val_loss: 1.0575 - val_accuracy: 0.6139\n",
            "Epoch 32/100\n",
            "24/24 [==============================] - 19s 650ms/step - loss: 0.9952 - accuracy: 0.6258 - val_loss: 1.0735 - val_accuracy: 0.6025\n",
            "Epoch 33/100\n",
            "24/24 [==============================] - 19s 656ms/step - loss: 1.0079 - accuracy: 0.6208 - val_loss: 1.1041 - val_accuracy: 0.6053\n",
            "Epoch 34/100\n",
            "24/24 [==============================] - 19s 645ms/step - loss: 1.0275 - accuracy: 0.6113 - val_loss: 1.1147 - val_accuracy: 0.5996\n",
            "Epoch 35/100\n",
            "24/24 [==============================] - 19s 648ms/step - loss: 0.9719 - accuracy: 0.6312 - val_loss: 1.0558 - val_accuracy: 0.6186\n",
            "Epoch 36/100\n",
            "24/24 [==============================] - 19s 650ms/step - loss: 0.9556 - accuracy: 0.6482 - val_loss: 1.1450 - val_accuracy: 0.5906\n",
            "Epoch 37/100\n",
            "24/24 [==============================] - 19s 649ms/step - loss: 0.9797 - accuracy: 0.6283 - val_loss: 1.1021 - val_accuracy: 0.6001\n",
            "Epoch 38/100\n",
            "24/24 [==============================] - 19s 647ms/step - loss: 0.9288 - accuracy: 0.6511 - val_loss: 1.0917 - val_accuracy: 0.5935\n",
            "Epoch 39/100\n",
            "24/24 [==============================] - 19s 645ms/step - loss: 0.9582 - accuracy: 0.6364 - val_loss: 1.0881 - val_accuracy: 0.6129\n",
            "Epoch 40/100\n",
            "24/24 [==============================] - 19s 649ms/step - loss: 0.9815 - accuracy: 0.6254 - val_loss: 1.0271 - val_accuracy: 0.6243\n",
            "Epoch 41/100\n",
            "24/24 [==============================] - 19s 655ms/step - loss: 0.9351 - accuracy: 0.6578 - val_loss: 1.1228 - val_accuracy: 0.5740\n",
            "Epoch 42/100\n",
            "24/24 [==============================] - 19s 654ms/step - loss: 0.9580 - accuracy: 0.6281 - val_loss: 1.0801 - val_accuracy: 0.6082\n",
            "Epoch 43/100\n",
            "24/24 [==============================] - 19s 653ms/step - loss: 0.9223 - accuracy: 0.6575 - val_loss: 1.0320 - val_accuracy: 0.6252\n",
            "Epoch 44/100\n",
            "24/24 [==============================] - 19s 643ms/step - loss: 0.8873 - accuracy: 0.6726 - val_loss: 1.1046 - val_accuracy: 0.5835\n",
            "Epoch 45/100\n",
            "24/24 [==============================] - 19s 658ms/step - loss: 0.9065 - accuracy: 0.6635 - val_loss: 1.1581 - val_accuracy: 0.5944\n",
            "Epoch 46/100\n",
            "24/24 [==============================] - 19s 661ms/step - loss: 0.9087 - accuracy: 0.6606 - val_loss: 1.0859 - val_accuracy: 0.5996\n",
            "Epoch 47/100\n",
            "24/24 [==============================] - 19s 656ms/step - loss: 0.8835 - accuracy: 0.6764 - val_loss: 1.0291 - val_accuracy: 0.6153\n",
            "Epoch 48/100\n",
            "24/24 [==============================] - 19s 652ms/step - loss: 0.8860 - accuracy: 0.6703 - val_loss: 1.0973 - val_accuracy: 0.6134\n",
            "Epoch 49/100\n",
            "24/24 [==============================] - 19s 659ms/step - loss: 0.8311 - accuracy: 0.6902 - val_loss: 1.0828 - val_accuracy: 0.6010\n",
            "Epoch 50/100\n",
            "24/24 [==============================] - 19s 658ms/step - loss: 0.8477 - accuracy: 0.6861 - val_loss: 1.0859 - val_accuracy: 0.6115\n",
            "Epoch 00050: early stopping\n"
          ],
          "name": "stdout"
        }
      ]
    },
    {
      "cell_type": "code",
      "metadata": {
        "id": "s3KXdrEX4Pu9",
        "colab": {
          "base_uri": "https://localhost:8080/",
          "height": 295
        },
        "outputId": "eba4cdc8-e9e5-481c-e5c2-c365de9285aa"
      },
      "source": [
        "import matplotlib.pyplot as plt\n",
        "plt.plot(history.history['accuracy'], label='accuracy (training data)')\n",
        "plt.plot(history.history['val_accuracy'], label='accuracy (validation data)')\n",
        "plt.title('acurracy for Images')\n",
        "plt.ylabel('accuracy value')\n",
        "plt.xlabel('No. epoch')\n",
        "plt.legend(loc=\"upper left\")\n",
        "plt.show()"
      ],
      "execution_count": null,
      "outputs": [
        {
          "output_type": "display_data",
          "data": {
            "image/png": "[encoded data removed]",
            "text/plain": [
              "<Figure size 432x288 with 1 Axes>"
            ]
          },
          "metadata": {
            "tags": [],
            "needs_background": "light"
          }
        }
      ]
    },
    {
      "cell_type": "code",
      "metadata": {
        "colab": {
          "base_uri": "https://localhost:8080/"
        },
        "id": "nedqex5m4It0",
        "outputId": "ac4ee873-f7c8-4af4-d1e3-507b3b5cdd0b"
      },
      "source": [
        "loss, acc = model.evaluate(test_dataset)\n",
        "print(f\"Loss {loss:.3}, accuracy {acc:.1%}\")"
      ],
      "execution_count": null,
      "outputs": [
        {
          "output_type": "stream",
          "text": [
            "9/9 [==============================] - 4s 46ms/step - loss: 1.0625 - accuracy: 0.6271\n",
            "Loss 1.06, accuracy 62.7%\n"
          ],
          "name": "stdout"
        }
      ]
    },
    {
      "cell_type": "markdown",
      "metadata": {
        "id": "HrLe9mFwhRKC"
      },
      "source": [
        "## Transfer learning"
      ]
    },
    {
      "cell_type": "markdown",
      "metadata": {
        "id": "7a5xs6_RhRKC"
      },
      "source": [
        "While designing your own network might produce some nice results, it is generally better to transfer the knowledge available in a pre-trained network. This not only can produce better results, but also saves a lot of design time. The [Keras Applications](https://keras.io/api/applications/) module contains several network designs ready to use. For instance, to exploit the famous VGG16 network we do"
      ]
    },
    {
      "cell_type": "code",
      "metadata": {
        "id": "fTLIqMTAhRKD",
        "colab": {
          "base_uri": "https://localhost:8080/"
        },
        "outputId": "5a82cec5-6a59-4723-ec78-6bcf0f5f40a3"
      },
      "source": [
        "from keras.applications import VGG16\n",
        "\n",
        "vgg16_model = VGG16(include_top=False, input_shape=(image_size, image_size, 3))"
      ],
      "execution_count": null,
      "outputs": [
        {
          "output_type": "stream",
          "text": [
            "Downloading data from https://storage.googleapis.com/tensorflow/keras-applications/vgg16/vgg16_weights_tf_dim_ordering_tf_kernels_notop.h5\n",
            "58892288/58889256 [==============================] - 1s 0us/step\n"
          ],
          "name": "stdout"
        }
      ]
    },
    {
      "cell_type": "markdown",
      "metadata": {
        "id": "_ZUvx4zdhRKD"
      },
      "source": [
        "By default all Keras Applications networks are preloaded with the weights that were obtained from training the network over the [ImageNet dataset](http://www.image-net.org/). To adapt the network to our problem we need to specify the shape of our input images, and also remove the output layers (top) of the original network, since we have a different number of classes.\n",
        "\n",
        "Now, how do we do transfer learning over this network? We will show here how to implement the bottleneck features strategy. First, we will mark the VGG16 model as **non-trainable**, so that the weights remain frozen"
      ]
    },
    {
      "cell_type": "code",
      "metadata": {
        "id": "iWsuQg0phRKD"
      },
      "source": [
        "vgg16_model.trainable = False"
      ],
      "execution_count": null,
      "outputs": []
    },
    {
      "cell_type": "markdown",
      "metadata": {
        "id": "ljtS1PhRhRKE"
      },
      "source": [
        "Now we will build a neural network that includes the VGG16 model as one of its \"layers\". Since the VGG16 was trained with an specific way of normalizing the images, we will need to normalize our images in the same way. Conveniently, Keras also provides a function for doing VGG16-style normalization."
      ]
    },
    {
      "cell_type": "code",
      "metadata": {
        "id": "ZjFpoNRIhRKE"
      },
      "source": [
        "from keras.applications.vgg16 import preprocess_input"
      ],
      "execution_count": null,
      "outputs": []
    },
    {
      "cell_type": "markdown",
      "metadata": {
        "id": "sqgiXyfiA7Au"
      },
      "source": [
        ""
      ]
    },
    {
      "cell_type": "markdown",
      "metadata": {
        "id": "dTBk5uRChRKF"
      },
      "source": [
        "We can try this with some image ir our dataset"
      ]
    },
    {
      "cell_type": "code",
      "metadata": {
        "id": "V6ukW26shRKF",
        "colab": {
          "base_uri": "https://localhost:8080/"
        },
        "outputId": "9f9c5a5a-7721-4d57-e0ea-1345553d86d6"
      },
      "source": [
        "for X_batch, _ in train_dataset:\n",
        "    break\n",
        "    \n",
        "print(f\"Before normalizing: {X_batch[0, :3, :3, :]}\")\n",
        "print(f\"After normalizing: {preprocess_input(X_batch)[0, :3, :3, :]}\")"
      ],
      "execution_count": null,
      "outputs": [
        {
          "output_type": "stream",
          "text": [
            "Before normalizing: [[[10.5   4.5   8.5 ]\n",
            "  [ 8.75  3.25  7.25]\n",
            "  [ 8.25  3.25  7.25]]\n",
            "\n",
            " [[ 7.5   1.5   5.5 ]\n",
            "  [ 8.    2.5   6.5 ]\n",
            "  [ 7.5   2.5   6.5 ]]\n",
            "\n",
            " [[ 7.5   1.5   5.5 ]\n",
            "  [ 7.5   2.    6.  ]\n",
            "  [ 7.    2.    6.  ]]]\n",
            "After normalizing: [[[ -95.439 -112.279 -113.18 ]\n",
            "  [ -96.689 -113.529 -114.93 ]\n",
            "  [ -96.689 -113.529 -115.43 ]]\n",
            "\n",
            " [[ -98.439 -115.279 -116.18 ]\n",
            "  [ -97.439 -114.279 -115.68 ]\n",
            "  [ -97.439 -114.279 -116.18 ]]\n",
            "\n",
            " [[ -98.439 -115.279 -116.18 ]\n",
            "  [ -97.939 -114.779 -116.18 ]\n",
            "  [ -97.939 -114.779 -116.68 ]]]\n"
          ],
          "name": "stdout"
        }
      ]
    },
    {
      "cell_type": "markdown",
      "metadata": {
        "id": "sx3EQeEThRKF"
      },
      "source": [
        "The normalization required by VGG16 involves swapping the order of color channels (RGB -> BGR) and substracting the mean values over the ImageNet dataset for each color channel separately. Fortunately the `preprocess_input` function does all the work for us. Furthermore, we can plug this function as the first layer of our network, similarly to the `Rescaling` we used before. We can do this with a `Lambda` layer, which allows building a layer out of any (differentiable!) function. Let's start our model with this layer."
      ]
    },
    {
      "cell_type": "code",
      "metadata": {
        "colab": {
          "base_uri": "https://localhost:8080/"
        },
        "id": "SXqcbAtO01If",
        "outputId": "4c8ff6a5-67f4-40d2-fdf7-ea57841f2f0d"
      },
      "source": [
        "train_dataset, val_dataset, test_dataset = create_datasets(TRAINDIR, VALDIR, TESTDIR, image_size=32, batch_size=256)"
      ],
      "execution_count": null,
      "outputs": [
        {
          "output_type": "stream",
          "text": [
            "Found 6082 files belonging to 6 classes.\n",
            "Found 2108 files belonging to 6 classes.\n",
            "Found 2070 files belonging to 6 classes.\n"
          ],
          "name": "stdout"
        }
      ]
    },
    {
      "cell_type": "code",
      "metadata": {
        "id": "DnSoUUrQhRKG"
      },
      "source": [
        "from keras.layers import Lambda\n",
        "image_size=32\n",
        "model = Sequential()\n",
        "model.add(Lambda(preprocess_input, input_shape=(image_size, image_size, 3)))"
      ],
      "execution_count": null,
      "outputs": []
    },
    {
      "cell_type": "markdown",
      "metadata": {
        "id": "k83-_MmdhRKG"
      },
      "source": [
        "After this, we can add the whole VGG16 network as a layer, and our custom trainable layers after it. Note this is an overly simple model with some mistakes introduced; a real transfer learning network would have a better design."
      ]
    },
    {
      "cell_type": "code",
      "metadata": {
        "id": "9f0RdEumhRKG",
        "colab": {
          "base_uri": "https://localhost:8080/"
        },
        "outputId": "eba487a9-6b17-4bac-ece6-3eb53e28f7c0"
      },
      "source": [
        "model.add(vgg16_model)\n",
        "model.add(Flatten())\n",
        "model.add(Dense(6, activation='sigmoid'))\n",
        "model.summary()"
      ],
      "execution_count": null,
      "outputs": [
        {
          "output_type": "stream",
          "text": [
            "Model: \"sequential_4\"\n",
            "_________________________________________________________________\n",
            "Layer (type)                 Output Shape              Param #   \n",
            "=================================================================\n",
            "lambda_3 (Lambda)            (None, 32, 32, 3)         0         \n",
            "_________________________________________________________________\n",
            "vgg16 (Functional)           (None, 1, 1, 512)         14714688  \n",
            "_________________________________________________________________\n",
            "flatten_4 (Flatten)          (None, 512)               0         \n",
            "_________________________________________________________________\n",
            "dense_4 (Dense)              (None, 6)                 3078      \n",
            "=================================================================\n",
            "Total params: 14,717,766\n",
            "Trainable params: 3,078\n",
            "Non-trainable params: 14,714,688\n",
            "_________________________________________________________________\n"
          ],
          "name": "stdout"
        }
      ]
    },
    {
      "cell_type": "markdown",
      "metadata": {
        "id": "NueAGF7DhRKG"
      },
      "source": [
        "Notice how in the model summary we can see the whole network has millions of parameters, but since we have frozen the VGG16 part, only a few thousand parameters will be trained: those in the Dense layer."
      ]
    },
    {
      "cell_type": "markdown",
      "metadata": {
        "id": "qn7iMKlQhRKH"
      },
      "source": [
        "We can now compile and train this model in the usual way"
      ]
    },
    {
      "cell_type": "code",
      "metadata": {
        "id": "5eBG6zKwhRKH",
        "colab": {
          "base_uri": "https://localhost:8080/"
        },
        "outputId": "f18aecd0-fb7c-4d23-c5b6-af40e888e212"
      },
      "source": [
        "model.compile(loss='categorical_crossentropy', optimizer='sgd', metrics=[\"accuracy\"])\n",
        "model.fit(train_dataset, epochs=1)\n",
        "\n",
        "loss, acc = model.evaluate(test_dataset)\n",
        "print(f\"Loss {loss:.3}, accuracy {acc:.1%}\")"
      ],
      "execution_count": null,
      "outputs": [
        {
          "output_type": "stream",
          "text": [
            "24/24 [==============================] - 44s 392ms/step - loss: 80.4606 - accuracy: 0.2478\n",
            "9/9 [==============================] - 5s 73ms/step - loss: 57.3353 - accuracy: 0.3092\n",
            "Loss 57.3, accuracy 30.9%\n"
          ],
          "name": "stdout"
        }
      ]
    },
    {
      "cell_type": "markdown",
      "metadata": {
        "id": "9Sb7SVSkhRKH"
      },
      "source": [
        "<img src=\"https://albarji-labs-materials.s3-eu-west-1.amazonaws.com/question.png\" height=\"80\" width=\"80\" style=\"float: right;\"/>\n",
        "\n",
        "***\n",
        "\n",
        "<font color=#ad3e26>\n",
        "    Using the bottleneck strategy, implement a network doing transfer learning from VGG16. If you do it properly, you should be able to obtain better results than with your previously designed network, at least a 80% of accuracy over the test set.\n",
        "</font>\n",
        "\n",
        "***"
      ]
    },
    {
      "cell_type": "markdown",
      "metadata": {
        "id": "rm2LQa-mhRKI"
      },
      "source": [
        "<img src=\"https://albarji-labs-materials.s3-eu-west-1.amazonaws.com/exclamation.png\" height=\"80\" width=\"80\" style=\"float: right;\"/>\n",
        "\n",
        "***\n",
        "<font color=#2655ad>\n",
        "    \n",
        "Some tips and strategies that can help you optimize your network design:\n",
        "\n",
        "    \n",
        "- Include one or more Dense layers with the appropriate activation functions before the output layer.\n",
        "- Try using a [GlobalAveragePooling layer](https://keras.io/api/layers/pooling_layers/global_average_pooling2d/) instead of a Flatten layer. This layer computes an average of all pixel values for each channel, and sometimes performs better than a regular Flatten.\n",
        "- And remember all the tricks from the previous exercise!\n",
        "</font>\n",
        "\n",
        "***"
      ]
    },
    {
      "cell_type": "markdown",
      "metadata": {
        "id": "sl6bbHEWhRKI"
      },
      "source": [
        "<img src=\"https://albarji-labs-materials.s3-eu-west-1.amazonaws.com/pro.png\" height=\"80\" width=\"80\" style=\"float: right;\"/>\n",
        "\n",
        "***\n",
        "<font color=#259b4c>\n",
        "    \n",
        "You can further improve the network accuracy with the following ideas\n",
        "\n",
        "- Use the PRO strategies from the previous exercise.\n",
        "- Try other pre-trained networks from <a href=\"https://keras.io/api/applications/\">Keras Applications</a>, such as ResNet, Xception or EfficientNet.\n",
        "- Use more advanced transfer learning strategies, like fine-tuning or a combination of bottleneck features and fine-tuning.\n",
        "   \n",
        "If you use all the tricks, it is possible to obtain more than 90% accuracy in the test set.\n",
        "\n",
        "</font>\n",
        "\n",
        "***"
      ]
    },
    {
      "cell_type": "code",
      "metadata": {
        "id": "fQleXCAK3h_m"
      },
      "source": [
        "from tensorflow import keras\n",
        "from tensorflow.keras import layers"
      ],
      "execution_count": null,
      "outputs": []
    },
    {
      "cell_type": "code",
      "metadata": {
        "colab": {
          "base_uri": "https://localhost:8080/"
        },
        "id": "RoedBSL-1oTQ",
        "outputId": "e02bacfa-c0ed-44c0-f21f-bc5839d35b28"
      },
      "source": [
        "train_dataset, val_dataset, test_dataset = create_datasets(TRAINDIR, VALDIR, TESTDIR, image_size=256, batch_size=256)"
      ],
      "execution_count": null,
      "outputs": [
        {
          "output_type": "stream",
          "text": [
            "Found 6082 files belonging to 6 classes.\n",
            "Found 2108 files belonging to 6 classes.\n",
            "Found 2070 files belonging to 6 classes.\n"
          ],
          "name": "stdout"
        }
      ]
    },
    {
      "cell_type": "code",
      "metadata": {
        "id": "Xcd2v6Eq3T0x"
      },
      "source": [
        "adam_opt = keras.optimizers.Adam(learning_rate=0.0001)"
      ],
      "execution_count": null,
      "outputs": []
    },
    {
      "cell_type": "code",
      "metadata": {
        "id": "qLJ8IgANhRKI",
        "colab": {
          "base_uri": "https://localhost:8080/"
        },
        "outputId": "95d95198-147a-4c3b-aa66-fa299be7b88b"
      },
      "source": [
        "####### INSERT YOUR CODE HERE\n",
        "image_size = 128\n",
        "vgg16_model = VGG16(include_top=False, input_shape=(image_size, image_size, 3))\n",
        "\n",
        "model = Sequential()\n",
        "model.add(Lambda(preprocess_input, input_shape=(image_size, image_size, 3)))\n",
        "model.add(vgg16_model)\n",
        "model.add(tf.keras.layers.GlobalAveragePooling2D())\n",
        "model.add(Dense(258, activation='relu'))\n",
        "model.add(Dropout(0.5))\n",
        "model.add(Dense(6, activation='softmax'))\n",
        "model.summary()"
      ],
      "execution_count": null,
      "outputs": [
        {
          "output_type": "stream",
          "text": [
            "Model: \"sequential_4\"\n",
            "_________________________________________________________________\n",
            "Layer (type)                 Output Shape              Param #   \n",
            "=================================================================\n",
            "lambda_2 (Lambda)            (None, 128, 128, 3)       0         \n",
            "_________________________________________________________________\n",
            "vgg16 (Functional)           (None, 4, 4, 512)         14714688  \n",
            "_________________________________________________________________\n",
            "global_average_pooling2d_1 ( (None, 512)               0         \n",
            "_________________________________________________________________\n",
            "dense_3 (Dense)              (None, 258)               132354    \n",
            "_________________________________________________________________\n",
            "dropout_1 (Dropout)          (None, 258)               0         \n",
            "_________________________________________________________________\n",
            "dense_4 (Dense)              (None, 6)                 1554      \n",
            "=================================================================\n",
            "Total params: 14,848,596\n",
            "Trainable params: 14,848,596\n",
            "Non-trainable params: 0\n",
            "_________________________________________________________________\n"
          ],
          "name": "stdout"
        }
      ]
    },
    {
      "cell_type": "code",
      "metadata": {
        "colab": {
          "base_uri": "https://localhost:8080/"
        },
        "id": "0jlevk9G0eMV",
        "outputId": "c331f9e3-742d-45de-86c0-2cbb3faa7870"
      },
      "source": [
        "from keras.applications import VGG16\n",
        "\n",
        "l_rate = 0.001\n",
        "epochs = 200\n",
        "decay = l_rate / epochs\n",
        "image_size = 256\n",
        "model_vgg = VGG16(include_top=False, input_shape=(image_size, image_size, 3))\n",
        "model_vgg.trainable = False\n",
        "model_transfer_full_5 = Sequential()\n",
        "\n",
        "model_transfer_full_5.add(RandomFlip(mode='horizontal'))\n",
        "model_transfer_full_5.add(RandomZoom(height_factor=(-0.6,0.6), width_factor=(-0.6,0.6)))\n",
        "model_transfer_full_5.add(Lambda(preprocess_input, input_shape=(image_size, image_size, 3)))\n",
        "\n",
        "model_transfer_full_5.add(model_vgg)\n",
        "# model_transfer_full_5.add(Convolution2D(16, (3,3), padding='valid', activation='relu'))\n",
        "# model_transfer_full_5.add(MaxPooling2D(pool_size=(2,2)))\n",
        "# model_transfer_full_5.add(Convolution2D(4, (3,3), padding='valid', activation='relu'))\n",
        "# model_transfer_full_5.add(MaxPooling2D(pool_size=(2,2)))\n",
        "model_transfer_full_5.add(tf.keras.layers.GlobalAveragePooling2D())\n",
        "# model_transfer_full_5.add(Dropout(0.2))\n",
        "model_transfer_full_5.add(Dense(5000))\n",
        "model_transfer_full_5.add(Dropout(0.25))\n",
        "model_transfer_full_5.add(Dense(2000))\n",
        "model_transfer_full_5.add(Dropout(0.25))\n",
        "model_transfer_full_5.add(Dense(1028))\n",
        "model_transfer_full_5.add(Dropout(0.25))\n",
        "model_transfer_full_5.add(Dense(514))\n",
        "model_transfer_full_5.add(Dropout(0.25))\n",
        "model_transfer_full_5.add(Dense(256))\n",
        "model_transfer_full_5.add(Dropout(0.25))\n",
        "model_transfer_full_5.add(Dense(128))\n",
        "model_transfer_full_5.add(Dropout(0.25))\n",
        "model_transfer_full_5.add(Dense(6, activation='softmax'))\n",
        "\n",
        "# Hiperparámetros\n",
        "adam = tf.keras.optimizers.Adam(lr=0.00001)\n",
        "es_1 = EarlyStopping(monitor='val_loss', patience=10, verbose=0, mode='min',restore_best_weights=True)\n",
        "mcp_save = tf.keras.callbacks.ModelCheckpoint('.mdl_wts.hdf5', save_best_only=True, monitor='val_loss', mode='min')\n",
        "reduce_lr_loss = tf.keras.callbacks.ReduceLROnPlateau(monitor='val_loss', factor=0.1, patience=7, verbose=1, min_delta=1e-4, mode='min')\n",
        "\n",
        "# Compilador\n",
        "model_transfer_full_5.compile(loss='categorical_crossentropy', optimizer=adam, metrics=[\"accuracy\"])\n",
        "\n",
        "\n",
        "history = model_transfer_full_5.fit(train_dataset, epochs=epochs, validation_data = val_dataset, callbacks = [es_1, mcp_save, reduce_lr_loss], shuffle=True)"
      ],
      "execution_count": null,
      "outputs": [
        {
          "output_type": "stream",
          "text": [
            "Epoch 1/200\n",
            "24/24 [==============================] - 141s 5s/step - loss: 14.7350 - accuracy: 0.2325 - val_loss: 2.8138 - val_accuracy: 0.6233\n",
            "Epoch 2/200\n",
            "24/24 [==============================] - 74s 3s/step - loss: 9.1864 - accuracy: 0.3888 - val_loss: 2.2758 - val_accuracy: 0.6973\n",
            "Epoch 3/200\n",
            "24/24 [==============================] - 74s 3s/step - loss: 7.4158 - accuracy: 0.4656 - val_loss: 2.1128 - val_accuracy: 0.7315\n",
            "Epoch 4/200\n",
            "24/24 [==============================] - 74s 3s/step - loss: 6.7721 - accuracy: 0.5150 - val_loss: 2.3519 - val_accuracy: 0.7324\n",
            "Epoch 5/200\n",
            "24/24 [==============================] - 73s 3s/step - loss: 6.4994 - accuracy: 0.5291 - val_loss: 2.3074 - val_accuracy: 0.7495\n",
            "Epoch 6/200\n",
            "24/24 [==============================] - 73s 3s/step - loss: 5.7306 - accuracy: 0.5655 - val_loss: 1.9993 - val_accuracy: 0.7713\n",
            "Epoch 7/200\n",
            "24/24 [==============================] - 73s 3s/step - loss: 5.7801 - accuracy: 0.5701 - val_loss: 2.0543 - val_accuracy: 0.7704\n",
            "Epoch 8/200\n",
            "24/24 [==============================] - 72s 3s/step - loss: 5.0691 - accuracy: 0.6030 - val_loss: 2.0688 - val_accuracy: 0.7751\n",
            "Epoch 9/200\n",
            "24/24 [==============================] - 71s 3s/step - loss: 5.2578 - accuracy: 0.5977 - val_loss: 2.0231 - val_accuracy: 0.7770\n",
            "Epoch 10/200\n",
            "24/24 [==============================] - 71s 3s/step - loss: 5.1271 - accuracy: 0.6085 - val_loss: 2.0115 - val_accuracy: 0.7799\n",
            "Epoch 11/200\n",
            "24/24 [==============================] - 71s 3s/step - loss: 4.8864 - accuracy: 0.6024 - val_loss: 1.9579 - val_accuracy: 0.7827\n",
            "Epoch 12/200\n",
            "24/24 [==============================] - 70s 3s/step - loss: 4.9903 - accuracy: 0.6080 - val_loss: 2.0199 - val_accuracy: 0.7827\n",
            "Epoch 13/200\n",
            "24/24 [==============================] - 69s 3s/step - loss: 4.7239 - accuracy: 0.6232 - val_loss: 1.9925 - val_accuracy: 0.7856\n",
            "Epoch 14/200\n",
            "24/24 [==============================] - 69s 3s/step - loss: 4.7950 - accuracy: 0.6157 - val_loss: 1.8318 - val_accuracy: 0.7922\n",
            "Epoch 15/200\n",
            "24/24 [==============================] - 69s 3s/step - loss: 4.5867 - accuracy: 0.6239 - val_loss: 1.8382 - val_accuracy: 0.7922\n",
            "Epoch 16/200\n",
            "24/24 [==============================] - 68s 3s/step - loss: 4.7443 - accuracy: 0.6281 - val_loss: 1.9480 - val_accuracy: 0.7889\n",
            "Epoch 17/200\n",
            "24/24 [==============================] - 68s 3s/step - loss: 4.4158 - accuracy: 0.6310 - val_loss: 1.8261 - val_accuracy: 0.7936\n",
            "Epoch 18/200\n",
            "24/24 [==============================] - 68s 3s/step - loss: 4.3969 - accuracy: 0.6279 - val_loss: 1.7926 - val_accuracy: 0.7922\n",
            "Epoch 19/200\n",
            "24/24 [==============================] - 68s 3s/step - loss: 4.2529 - accuracy: 0.6378 - val_loss: 1.9272 - val_accuracy: 0.7898\n",
            "Epoch 20/200\n",
            "24/24 [==============================] - 69s 3s/step - loss: 4.2246 - accuracy: 0.6399 - val_loss: 1.8355 - val_accuracy: 0.7908\n",
            "Epoch 21/200\n",
            "24/24 [==============================] - 69s 3s/step - loss: 4.1240 - accuracy: 0.6403 - val_loss: 1.8336 - val_accuracy: 0.7941\n",
            "Epoch 22/200\n",
            "24/24 [==============================] - 69s 3s/step - loss: 4.0276 - accuracy: 0.6487 - val_loss: 1.7780 - val_accuracy: 0.7998\n",
            "Epoch 23/200\n",
            "24/24 [==============================] - 69s 3s/step - loss: 3.8688 - accuracy: 0.6540 - val_loss: 1.7808 - val_accuracy: 0.8027\n",
            "Epoch 24/200\n",
            "24/24 [==============================] - 69s 3s/step - loss: 3.8492 - accuracy: 0.6644 - val_loss: 1.7392 - val_accuracy: 0.8008\n",
            "Epoch 25/200\n",
            "24/24 [==============================] - 69s 3s/step - loss: 4.0822 - accuracy: 0.6490 - val_loss: 1.7903 - val_accuracy: 0.7993\n",
            "Epoch 26/200\n",
            "24/24 [==============================] - 70s 3s/step - loss: 3.8712 - accuracy: 0.6538 - val_loss: 1.6626 - val_accuracy: 0.8102\n",
            "Epoch 27/200\n",
            "24/24 [==============================] - 71s 3s/step - loss: 3.8485 - accuracy: 0.6446 - val_loss: 1.7267 - val_accuracy: 0.8036\n",
            "Epoch 28/200\n",
            "24/24 [==============================] - 71s 3s/step - loss: 3.7839 - accuracy: 0.6551 - val_loss: 1.7598 - val_accuracy: 0.7998\n",
            "Epoch 29/200\n",
            "24/24 [==============================] - 71s 3s/step - loss: 3.5094 - accuracy: 0.6636 - val_loss: 1.6961 - val_accuracy: 0.8074\n",
            "Epoch 30/200\n",
            "24/24 [==============================] - 71s 3s/step - loss: 3.7029 - accuracy: 0.6555 - val_loss: 1.6233 - val_accuracy: 0.8155\n",
            "Epoch 31/200\n",
            "24/24 [==============================] - 71s 3s/step - loss: 3.7006 - accuracy: 0.6487 - val_loss: 1.6079 - val_accuracy: 0.8136\n",
            "Epoch 32/200\n",
            "24/24 [==============================] - 71s 3s/step - loss: 3.4705 - accuracy: 0.6744 - val_loss: 1.5971 - val_accuracy: 0.8136\n",
            "Epoch 33/200\n",
            "24/24 [==============================] - 70s 3s/step - loss: 3.5666 - accuracy: 0.6673 - val_loss: 1.5486 - val_accuracy: 0.8169\n",
            "Epoch 34/200\n",
            "24/24 [==============================] - 69s 3s/step - loss: 3.5536 - accuracy: 0.6661 - val_loss: 1.5906 - val_accuracy: 0.8145\n",
            "Epoch 35/200\n",
            "24/24 [==============================] - 69s 3s/step - loss: 3.4656 - accuracy: 0.6561 - val_loss: 1.6026 - val_accuracy: 0.8121\n",
            "Epoch 36/200\n",
            "24/24 [==============================] - 69s 3s/step - loss: 3.4707 - accuracy: 0.6544 - val_loss: 1.5831 - val_accuracy: 0.8145\n",
            "Epoch 37/200\n",
            "24/24 [==============================] - 69s 3s/step - loss: 3.5366 - accuracy: 0.6571 - val_loss: 1.5475 - val_accuracy: 0.8169\n",
            "Epoch 38/200\n",
            "24/24 [==============================] - 68s 3s/step - loss: 3.1815 - accuracy: 0.6896 - val_loss: 1.5360 - val_accuracy: 0.8145\n",
            "Epoch 39/200\n",
            "24/24 [==============================] - 69s 3s/step - loss: 3.3130 - accuracy: 0.6741 - val_loss: 1.5865 - val_accuracy: 0.8079\n",
            "Epoch 40/200\n",
            "24/24 [==============================] - 69s 3s/step - loss: 3.3810 - accuracy: 0.6571 - val_loss: 1.6528 - val_accuracy: 0.8036\n",
            "Epoch 41/200\n",
            "24/24 [==============================] - 69s 3s/step - loss: 3.2886 - accuracy: 0.6809 - val_loss: 1.5634 - val_accuracy: 0.8088\n",
            "Epoch 42/200\n",
            "24/24 [==============================] - 69s 3s/step - loss: 3.2302 - accuracy: 0.6617 - val_loss: 1.5743 - val_accuracy: 0.8112\n",
            "Epoch 43/200\n",
            "24/24 [==============================] - 70s 3s/step - loss: 3.0827 - accuracy: 0.6780 - val_loss: 1.4825 - val_accuracy: 0.8145\n",
            "Epoch 44/200\n",
            "24/24 [==============================] - 70s 3s/step - loss: 3.1890 - accuracy: 0.6670 - val_loss: 1.4622 - val_accuracy: 0.8155\n",
            "Epoch 45/200\n",
            "24/24 [==============================] - 69s 3s/step - loss: 3.1507 - accuracy: 0.6799 - val_loss: 1.5302 - val_accuracy: 0.8098\n",
            "Epoch 46/200\n",
            "24/24 [==============================] - 69s 3s/step - loss: 3.0948 - accuracy: 0.6638 - val_loss: 1.4889 - val_accuracy: 0.8107\n",
            "Epoch 47/200\n",
            "24/24 [==============================] - 69s 3s/step - loss: 3.1120 - accuracy: 0.6714 - val_loss: 1.4635 - val_accuracy: 0.8155\n",
            "Epoch 48/200\n",
            "24/24 [==============================] - 70s 3s/step - loss: 3.1854 - accuracy: 0.6691 - val_loss: 1.5474 - val_accuracy: 0.8065\n",
            "Epoch 49/200\n",
            "24/24 [==============================] - 72s 3s/step - loss: 3.1307 - accuracy: 0.6771 - val_loss: 1.5498 - val_accuracy: 0.8083\n",
            "Epoch 50/200\n",
            "24/24 [==============================] - 72s 3s/step - loss: 3.2569 - accuracy: 0.6688 - val_loss: 1.4559 - val_accuracy: 0.8145\n",
            "Epoch 51/200\n",
            "24/24 [==============================] - 72s 3s/step - loss: 3.1611 - accuracy: 0.6784 - val_loss: 1.4874 - val_accuracy: 0.8112\n",
            "Epoch 52/200\n",
            "24/24 [==============================] - 72s 3s/step - loss: 3.0965 - accuracy: 0.6673 - val_loss: 1.4249 - val_accuracy: 0.8169\n",
            "Epoch 53/200\n",
            "24/24 [==============================] - 72s 3s/step - loss: 3.0937 - accuracy: 0.6782 - val_loss: 1.4827 - val_accuracy: 0.8121\n",
            "Epoch 54/200\n",
            "24/24 [==============================] - 72s 3s/step - loss: 3.0239 - accuracy: 0.6743 - val_loss: 1.4327 - val_accuracy: 0.8126\n",
            "Epoch 55/200\n",
            "24/24 [==============================] - 70s 3s/step - loss: 3.1115 - accuracy: 0.6739 - val_loss: 1.4156 - val_accuracy: 0.8164\n",
            "Epoch 56/200\n",
            "24/24 [==============================] - 69s 3s/step - loss: 3.0024 - accuracy: 0.6886 - val_loss: 1.4171 - val_accuracy: 0.8136\n",
            "Epoch 57/200\n",
            "24/24 [==============================] - 69s 3s/step - loss: 3.0357 - accuracy: 0.6730 - val_loss: 1.4593 - val_accuracy: 0.8102\n",
            "Epoch 58/200\n",
            "24/24 [==============================] - 69s 3s/step - loss: 2.9956 - accuracy: 0.6832 - val_loss: 1.3977 - val_accuracy: 0.8150\n",
            "Epoch 59/200\n",
            "24/24 [==============================] - 69s 3s/step - loss: 2.9892 - accuracy: 0.6700 - val_loss: 1.4422 - val_accuracy: 0.8159\n",
            "Epoch 60/200\n",
            "24/24 [==============================] - 69s 3s/step - loss: 2.9421 - accuracy: 0.6789 - val_loss: 1.3950 - val_accuracy: 0.8174\n",
            "Epoch 61/200\n",
            "24/24 [==============================] - 69s 3s/step - loss: 2.9623 - accuracy: 0.6667 - val_loss: 1.4074 - val_accuracy: 0.8150\n",
            "Epoch 62/200\n",
            "24/24 [==============================] - 69s 3s/step - loss: 2.8460 - accuracy: 0.6887 - val_loss: 1.4438 - val_accuracy: 0.8088\n",
            "Epoch 63/200\n",
            "24/24 [==============================] - 69s 3s/step - loss: 2.8031 - accuracy: 0.6829 - val_loss: 1.3931 - val_accuracy: 0.8140\n",
            "Epoch 64/200\n",
            "24/24 [==============================] - 69s 3s/step - loss: 2.8784 - accuracy: 0.6765 - val_loss: 1.3641 - val_accuracy: 0.8155\n",
            "Epoch 65/200\n",
            "24/24 [==============================] - 69s 3s/step - loss: 2.8314 - accuracy: 0.6780 - val_loss: 1.3122 - val_accuracy: 0.8164\n",
            "Epoch 66/200\n",
            "24/24 [==============================] - 69s 3s/step - loss: 2.7918 - accuracy: 0.6880 - val_loss: 1.3586 - val_accuracy: 0.8159\n",
            "Epoch 67/200\n",
            "24/24 [==============================] - 69s 3s/step - loss: 2.8575 - accuracy: 0.6851 - val_loss: 1.3442 - val_accuracy: 0.8145\n",
            "Epoch 68/200\n",
            "24/24 [==============================] - 70s 3s/step - loss: 2.8695 - accuracy: 0.6787 - val_loss: 1.2946 - val_accuracy: 0.8207\n",
            "Epoch 69/200\n",
            "24/24 [==============================] - 72s 3s/step - loss: 2.8037 - accuracy: 0.6795 - val_loss: 1.2862 - val_accuracy: 0.8216\n",
            "Epoch 70/200\n",
            "24/24 [==============================] - 71s 3s/step - loss: 2.7292 - accuracy: 0.6783 - val_loss: 1.3580 - val_accuracy: 0.8150\n",
            "Epoch 71/200\n",
            "24/24 [==============================] - 73s 3s/step - loss: 2.6578 - accuracy: 0.6957 - val_loss: 1.3405 - val_accuracy: 0.8155\n",
            "Epoch 72/200\n",
            "24/24 [==============================] - 74s 3s/step - loss: 2.6805 - accuracy: 0.6845 - val_loss: 1.3372 - val_accuracy: 0.8159\n",
            "Epoch 73/200\n",
            "24/24 [==============================] - 74s 3s/step - loss: 2.7609 - accuracy: 0.6740 - val_loss: 1.2901 - val_accuracy: 0.8193\n",
            "Epoch 74/200\n",
            "24/24 [==============================] - 74s 3s/step - loss: 2.7695 - accuracy: 0.6675 - val_loss: 1.3294 - val_accuracy: 0.8197\n",
            "Epoch 75/200\n",
            "24/24 [==============================] - 74s 3s/step - loss: 2.5470 - accuracy: 0.6887 - val_loss: 1.2830 - val_accuracy: 0.8178\n",
            "Epoch 76/200\n",
            "24/24 [==============================] - 74s 3s/step - loss: 2.7531 - accuracy: 0.6801 - val_loss: 1.2826 - val_accuracy: 0.8159\n",
            "Epoch 77/200\n",
            "24/24 [==============================] - 74s 3s/step - loss: 2.7007 - accuracy: 0.6846 - val_loss: 1.2785 - val_accuracy: 0.8155\n",
            "Epoch 78/200\n",
            "24/24 [==============================] - 73s 3s/step - loss: 2.7352 - accuracy: 0.6888 - val_loss: 1.2985 - val_accuracy: 0.8126\n",
            "Epoch 79/200\n",
            "24/24 [==============================] - 72s 3s/step - loss: 2.5069 - accuracy: 0.6930 - val_loss: 1.2474 - val_accuracy: 0.8235\n",
            "Epoch 80/200\n",
            "24/24 [==============================] - 72s 3s/step - loss: 2.5898 - accuracy: 0.7002 - val_loss: 1.3360 - val_accuracy: 0.8145\n",
            "Epoch 81/200\n",
            "24/24 [==============================] - 72s 3s/step - loss: 2.7000 - accuracy: 0.6789 - val_loss: 1.2454 - val_accuracy: 0.8240\n",
            "Epoch 82/200\n",
            "24/24 [==============================] - 72s 3s/step - loss: 2.5578 - accuracy: 0.6946 - val_loss: 1.2681 - val_accuracy: 0.8169\n",
            "Epoch 83/200\n",
            "24/24 [==============================] - 72s 3s/step - loss: 2.6677 - accuracy: 0.6860 - val_loss: 1.2635 - val_accuracy: 0.8183\n",
            "Epoch 84/200\n",
            "24/24 [==============================] - 72s 3s/step - loss: 2.5451 - accuracy: 0.6845 - val_loss: 1.2641 - val_accuracy: 0.8178\n",
            "Epoch 85/200\n",
            "24/24 [==============================] - 72s 3s/step - loss: 2.6032 - accuracy: 0.6797 - val_loss: 1.2436 - val_accuracy: 0.8212\n",
            "Epoch 86/200\n",
            "24/24 [==============================] - 71s 3s/step - loss: 2.5664 - accuracy: 0.6848 - val_loss: 1.2310 - val_accuracy: 0.8216\n",
            "Epoch 87/200\n",
            "24/24 [==============================] - 72s 3s/step - loss: 2.6820 - accuracy: 0.6785 - val_loss: 1.2283 - val_accuracy: 0.8183\n",
            "Epoch 88/200\n",
            "24/24 [==============================] - 70s 3s/step - loss: 2.5271 - accuracy: 0.6828 - val_loss: 1.2060 - val_accuracy: 0.8188\n",
            "Epoch 89/200\n",
            "24/24 [==============================] - 69s 3s/step - loss: 2.6154 - accuracy: 0.6780 - val_loss: 1.2101 - val_accuracy: 0.8202\n",
            "Epoch 90/200\n",
            "24/24 [==============================] - 69s 3s/step - loss: 2.5700 - accuracy: 0.6797 - val_loss: 1.2453 - val_accuracy: 0.8150\n",
            "Epoch 91/200\n",
            "24/24 [==============================] - 69s 3s/step - loss: 2.5313 - accuracy: 0.6822 - val_loss: 1.1798 - val_accuracy: 0.8188\n",
            "Epoch 92/200\n",
            "24/24 [==============================] - 69s 3s/step - loss: 2.4581 - accuracy: 0.6867 - val_loss: 1.2096 - val_accuracy: 0.8169\n",
            "Epoch 93/200\n",
            "24/24 [==============================] - 69s 3s/step - loss: 2.3616 - accuracy: 0.6927 - val_loss: 1.2462 - val_accuracy: 0.8164\n",
            "Epoch 94/200\n",
            "24/24 [==============================] - 69s 3s/step - loss: 2.5366 - accuracy: 0.6841 - val_loss: 1.2180 - val_accuracy: 0.8188\n",
            "Epoch 95/200\n",
            "24/24 [==============================] - 69s 3s/step - loss: 2.4590 - accuracy: 0.6893 - val_loss: 1.2119 - val_accuracy: 0.8178\n",
            "Epoch 96/200\n",
            "24/24 [==============================] - 69s 3s/step - loss: 2.5045 - accuracy: 0.6788 - val_loss: 1.1747 - val_accuracy: 0.8202\n",
            "Epoch 97/200\n",
            "24/24 [==============================] - 69s 3s/step - loss: 2.4635 - accuracy: 0.6864 - val_loss: 1.2329 - val_accuracy: 0.8107\n",
            "Epoch 98/200\n",
            "24/24 [==============================] - 69s 3s/step - loss: 2.3825 - accuracy: 0.6899 - val_loss: 1.1707 - val_accuracy: 0.8183\n",
            "Epoch 99/200\n",
            "24/24 [==============================] - 70s 3s/step - loss: 2.3719 - accuracy: 0.7024 - val_loss: 1.1940 - val_accuracy: 0.8159\n",
            "Epoch 100/200\n",
            "24/24 [==============================] - 72s 3s/step - loss: 2.3822 - accuracy: 0.6945 - val_loss: 1.1593 - val_accuracy: 0.8207\n",
            "Epoch 101/200\n",
            "24/24 [==============================] - 70s 3s/step - loss: 2.2612 - accuracy: 0.6876 - val_loss: 1.1418 - val_accuracy: 0.8221\n",
            "Epoch 102/200\n",
            "24/24 [==============================] - 69s 3s/step - loss: 2.3097 - accuracy: 0.6994 - val_loss: 1.1445 - val_accuracy: 0.8226\n",
            "Epoch 103/200\n",
            "24/24 [==============================] - 69s 3s/step - loss: 2.2774 - accuracy: 0.6834 - val_loss: 1.1595 - val_accuracy: 0.8212\n",
            "Epoch 104/200\n",
            "24/24 [==============================] - 69s 3s/step - loss: 2.3281 - accuracy: 0.6919 - val_loss: 1.1264 - val_accuracy: 0.8226\n",
            "Epoch 105/200\n",
            "24/24 [==============================] - 69s 3s/step - loss: 2.3057 - accuracy: 0.6873 - val_loss: 1.1400 - val_accuracy: 0.8202\n",
            "Epoch 106/200\n",
            "24/24 [==============================] - 69s 3s/step - loss: 2.2824 - accuracy: 0.6951 - val_loss: 1.1253 - val_accuracy: 0.8207\n",
            "Epoch 107/200\n",
            "24/24 [==============================] - 69s 3s/step - loss: 2.2866 - accuracy: 0.6945 - val_loss: 1.1070 - val_accuracy: 0.8197\n",
            "Epoch 108/200\n",
            "24/24 [==============================] - 69s 3s/step - loss: 2.2611 - accuracy: 0.6932 - val_loss: 1.1218 - val_accuracy: 0.8235\n",
            "Epoch 109/200\n",
            "24/24 [==============================] - 69s 3s/step - loss: 2.3199 - accuracy: 0.6889 - val_loss: 1.0985 - val_accuracy: 0.8216\n",
            "Epoch 110/200\n",
            "24/24 [==============================] - 69s 3s/step - loss: 2.3328 - accuracy: 0.6892 - val_loss: 1.1041 - val_accuracy: 0.8183\n",
            "Epoch 111/200\n",
            "24/24 [==============================] - 69s 3s/step - loss: 2.1372 - accuracy: 0.6969 - val_loss: 1.1062 - val_accuracy: 0.8202\n",
            "Epoch 112/200\n",
            "24/24 [==============================] - 69s 3s/step - loss: 2.2654 - accuracy: 0.6907 - val_loss: 1.1424 - val_accuracy: 0.8202\n",
            "Epoch 113/200\n",
            "24/24 [==============================] - 69s 3s/step - loss: 2.2364 - accuracy: 0.6943 - val_loss: 1.1094 - val_accuracy: 0.8240\n",
            "Epoch 114/200\n",
            "24/24 [==============================] - 69s 3s/step - loss: 2.3466 - accuracy: 0.6824 - val_loss: 1.1237 - val_accuracy: 0.8193\n",
            "Epoch 115/200\n",
            "24/24 [==============================] - 69s 3s/step - loss: 2.2411 - accuracy: 0.7001 - val_loss: 1.0862 - val_accuracy: 0.8207\n",
            "Epoch 116/200\n",
            "24/24 [==============================] - 69s 3s/step - loss: 2.2061 - accuracy: 0.6954 - val_loss: 1.0963 - val_accuracy: 0.8231\n",
            "Epoch 117/200\n",
            "24/24 [==============================] - 71s 3s/step - loss: 2.0924 - accuracy: 0.7114 - val_loss: 1.0930 - val_accuracy: 0.8207\n",
            "Epoch 118/200\n",
            "24/24 [==============================] - 71s 3s/step - loss: 2.2385 - accuracy: 0.6936 - val_loss: 1.0785 - val_accuracy: 0.8226\n",
            "Epoch 119/200\n",
            "24/24 [==============================] - 71s 3s/step - loss: 2.1556 - accuracy: 0.6891 - val_loss: 1.0913 - val_accuracy: 0.8183\n",
            "Epoch 120/200\n",
            "24/24 [==============================] - 70s 3s/step - loss: 2.3190 - accuracy: 0.6822 - val_loss: 1.0858 - val_accuracy: 0.8193\n",
            "Epoch 121/200\n",
            "24/24 [==============================] - 69s 3s/step - loss: 2.2524 - accuracy: 0.6914 - val_loss: 1.1225 - val_accuracy: 0.8159\n",
            "Epoch 122/200\n",
            "24/24 [==============================] - 69s 3s/step - loss: 2.0989 - accuracy: 0.6949 - val_loss: 1.0783 - val_accuracy: 0.8235\n",
            "Epoch 123/200\n",
            "24/24 [==============================] - 69s 3s/step - loss: 2.1538 - accuracy: 0.7090 - val_loss: 1.0794 - val_accuracy: 0.8202\n",
            "Epoch 124/200\n",
            "24/24 [==============================] - 69s 3s/step - loss: 2.2988 - accuracy: 0.6933 - val_loss: 1.0805 - val_accuracy: 0.8231\n",
            "Epoch 125/200\n",
            "24/24 [==============================] - 69s 3s/step - loss: 2.1760 - accuracy: 0.6920 - val_loss: 1.0694 - val_accuracy: 0.8231\n",
            "Epoch 126/200\n",
            "24/24 [==============================] - 69s 3s/step - loss: 2.2394 - accuracy: 0.6912 - val_loss: 1.0574 - val_accuracy: 0.8264\n",
            "Epoch 127/200\n",
            "24/24 [==============================] - 69s 3s/step - loss: 2.1459 - accuracy: 0.6975 - val_loss: 1.0845 - val_accuracy: 0.8188\n",
            "Epoch 128/200\n",
            "24/24 [==============================] - 69s 3s/step - loss: 2.0904 - accuracy: 0.7020 - val_loss: 1.0485 - val_accuracy: 0.8235\n",
            "Epoch 129/200\n",
            "24/24 [==============================] - 69s 3s/step - loss: 2.1968 - accuracy: 0.6899 - val_loss: 1.0394 - val_accuracy: 0.8250\n",
            "Epoch 130/200\n",
            "24/24 [==============================] - 70s 3s/step - loss: 2.1292 - accuracy: 0.6822 - val_loss: 1.0514 - val_accuracy: 0.8231\n",
            "Epoch 131/200\n",
            "24/24 [==============================] - 72s 3s/step - loss: 2.1518 - accuracy: 0.6997 - val_loss: 1.0451 - val_accuracy: 0.8226\n",
            "Epoch 132/200\n",
            "24/24 [==============================] - 70s 3s/step - loss: 2.1246 - accuracy: 0.6976 - val_loss: 1.0434 - val_accuracy: 0.8226\n",
            "Epoch 133/200\n",
            "24/24 [==============================] - 69s 3s/step - loss: 2.0564 - accuracy: 0.6946 - val_loss: 1.0502 - val_accuracy: 0.8259\n",
            "Epoch 134/200\n",
            "24/24 [==============================] - 69s 3s/step - loss: 2.0991 - accuracy: 0.7051 - val_loss: 1.0554 - val_accuracy: 0.8202\n",
            "Epoch 135/200\n",
            "24/24 [==============================] - 69s 3s/step - loss: 1.9867 - accuracy: 0.6988 - val_loss: 1.0258 - val_accuracy: 0.8212\n",
            "Epoch 136/200\n",
            "24/24 [==============================] - 69s 3s/step - loss: 2.1369 - accuracy: 0.6847 - val_loss: 1.0250 - val_accuracy: 0.8216\n",
            "Epoch 137/200\n",
            "24/24 [==============================] - 69s 3s/step - loss: 2.1436 - accuracy: 0.6930 - val_loss: 1.0111 - val_accuracy: 0.8254\n",
            "Epoch 138/200\n",
            "24/24 [==============================] - 69s 3s/step - loss: 2.0680 - accuracy: 0.7065 - val_loss: 1.0336 - val_accuracy: 0.8207\n",
            "Epoch 139/200\n",
            "24/24 [==============================] - 69s 3s/step - loss: 2.1296 - accuracy: 0.6899 - val_loss: 1.0514 - val_accuracy: 0.8202\n",
            "Epoch 140/200\n",
            "24/24 [==============================] - 70s 3s/step - loss: 2.0477 - accuracy: 0.7017 - val_loss: 1.0057 - val_accuracy: 0.8240\n",
            "Epoch 141/200\n",
            "24/24 [==============================] - 72s 3s/step - loss: 2.0646 - accuracy: 0.6896 - val_loss: 1.0369 - val_accuracy: 0.8197\n",
            "Epoch 142/200\n",
            "24/24 [==============================] - 72s 3s/step - loss: 2.0714 - accuracy: 0.6941 - val_loss: 1.0475 - val_accuracy: 0.8240\n",
            "Epoch 143/200\n",
            "24/24 [==============================] - 72s 3s/step - loss: 2.0590 - accuracy: 0.6950 - val_loss: 1.0244 - val_accuracy: 0.8212\n",
            "Epoch 144/200\n",
            "24/24 [==============================] - 73s 3s/step - loss: 2.0155 - accuracy: 0.6959 - val_loss: 1.0237 - val_accuracy: 0.8197\n",
            "Epoch 145/200\n",
            "24/24 [==============================] - 75s 3s/step - loss: 2.1207 - accuracy: 0.7003 - val_loss: 1.0420 - val_accuracy: 0.8188\n",
            "Epoch 146/200\n",
            "24/24 [==============================] - 75s 3s/step - loss: 2.0271 - accuracy: 0.7012 - val_loss: 1.0164 - val_accuracy: 0.8197\n",
            "Epoch 147/200\n",
            "24/24 [==============================] - 75s 3s/step - loss: 2.0376 - accuracy: 0.6987 - val_loss: 1.0079 - val_accuracy: 0.8231\n",
            "\n",
            "Epoch 00147: ReduceLROnPlateau reducing learning rate to 9.999999747378752e-07.\n",
            "Epoch 148/200\n",
            "24/24 [==============================] - 75s 3s/step - loss: 1.9193 - accuracy: 0.7002 - val_loss: 1.0057 - val_accuracy: 0.8226\n",
            "Epoch 149/200\n",
            "24/24 [==============================] - 75s 3s/step - loss: 1.9529 - accuracy: 0.7030 - val_loss: 0.9987 - val_accuracy: 0.8240\n",
            "Epoch 150/200\n",
            "24/24 [==============================] - 75s 3s/step - loss: 2.0290 - accuracy: 0.6874 - val_loss: 0.9995 - val_accuracy: 0.8254\n",
            "Epoch 151/200\n",
            "24/24 [==============================] - 75s 3s/step - loss: 2.1210 - accuracy: 0.6861 - val_loss: 1.0002 - val_accuracy: 0.8245\n",
            "Epoch 152/200\n",
            "24/24 [==============================] - 75s 3s/step - loss: 1.8612 - accuracy: 0.6968 - val_loss: 1.0010 - val_accuracy: 0.8245\n",
            "Epoch 153/200\n",
            "24/24 [==============================] - 75s 3s/step - loss: 2.0333 - accuracy: 0.6989 - val_loss: 1.0022 - val_accuracy: 0.8235\n",
            "Epoch 154/200\n",
            "24/24 [==============================] - 74s 3s/step - loss: 2.0733 - accuracy: 0.6877 - val_loss: 0.9978 - val_accuracy: 0.8245\n",
            "Epoch 155/200\n",
            "24/24 [==============================] - 74s 3s/step - loss: 2.0130 - accuracy: 0.6986 - val_loss: 0.9950 - val_accuracy: 0.8259\n",
            "Epoch 156/200\n",
            "24/24 [==============================] - 73s 3s/step - loss: 1.9342 - accuracy: 0.7121 - val_loss: 0.9977 - val_accuracy: 0.8250\n",
            "Epoch 157/200\n",
            "24/24 [==============================] - 71s 3s/step - loss: 1.9848 - accuracy: 0.6962 - val_loss: 0.9966 - val_accuracy: 0.8226\n",
            "Epoch 158/200\n",
            "24/24 [==============================] - 69s 3s/step - loss: 2.0275 - accuracy: 0.6996 - val_loss: 0.9999 - val_accuracy: 0.8216\n",
            "Epoch 159/200\n",
            "24/24 [==============================] - 69s 3s/step - loss: 1.9251 - accuracy: 0.7030 - val_loss: 1.0002 - val_accuracy: 0.8226\n",
            "Epoch 160/200\n",
            "24/24 [==============================] - 69s 3s/step - loss: 1.9606 - accuracy: 0.7026 - val_loss: 1.0043 - val_accuracy: 0.8221\n",
            "Epoch 161/200\n",
            "24/24 [==============================] - 69s 3s/step - loss: 2.0405 - accuracy: 0.6889 - val_loss: 1.0041 - val_accuracy: 0.8226\n",
            "Epoch 162/200\n",
            "24/24 [==============================] - 69s 3s/step - loss: 1.9646 - accuracy: 0.7025 - val_loss: 1.0021 - val_accuracy: 0.8231\n",
            "\n",
            "Epoch 00162: ReduceLROnPlateau reducing learning rate to 9.999999974752428e-08.\n",
            "Epoch 163/200\n",
            "24/24 [==============================] - 69s 3s/step - loss: 1.8470 - accuracy: 0.7141 - val_loss: 1.0017 - val_accuracy: 0.8226\n",
            "Epoch 164/200\n",
            "24/24 [==============================] - 69s 3s/step - loss: 2.0963 - accuracy: 0.6865 - val_loss: 1.0014 - val_accuracy: 0.8226\n",
            "Epoch 165/200\n",
            "24/24 [==============================] - 69s 3s/step - loss: 1.8912 - accuracy: 0.6984 - val_loss: 1.0014 - val_accuracy: 0.8226\n"
          ],
          "name": "stdout"
        }
      ]
    },
    {
      "cell_type": "code",
      "metadata": {
        "colab": {
          "base_uri": "https://localhost:8080/"
        },
        "id": "znr_G1iz13rr",
        "outputId": "c531cefb-f7ca-4db6-a6ac-772f814974e2"
      },
      "source": [
        "loss, acc = model_transfer_full_5.evaluate(test_dataset)\n",
        "print(f\"Loss {loss:.3}, accuracy {acc:.1%}\")"
      ],
      "execution_count": null,
      "outputs": [
        {
          "output_type": "stream",
          "text": [
            "9/9 [==============================] - 25s 2s/step - loss: 0.9798 - accuracy: 0.8314\n",
            "Loss 0.98, accuracy 83.1%\n"
          ],
          "name": "stdout"
        }
      ]
    },
    {
      "cell_type": "code",
      "metadata": {
        "id": "ri34Y9zL1_xQ"
      },
      "source": [
        "import matplotlib.pyplot as plt\n",
        "plt.plot(history.history['accuracy'], label='accuracy (training data)')\n",
        "plt.plot(history.history['val_accuracy'], label='accuracy (validation data)')\n",
        "plt.title('acurracy for Images')\n",
        "plt.ylabel('accuracy value')\n",
        "plt.xlabel('No. epoch')\n",
        "plt.legend(loc=\"upper left\")\n",
        "plt.show()"
      ],
      "execution_count": null,
      "outputs": []
    },
    {
      "cell_type": "code",
      "metadata": {
        "id": "InuREc4tP36v",
        "colab": {
          "base_uri": "https://localhost:8080/",
          "height": 1000
        },
        "outputId": "e9412c95-4202-4d2c-94ed-b1647e3315c9"
      },
      "source": [
        "# Modelo Xception\n",
        "\n",
        "from tensorflow.keras.callbacks import EarlyStopping\n",
        "from tensorflow.keras import layers\n",
        "from tensorflow.keras import regularizers\n",
        "\n",
        "# MODELO Frankestein\n",
        "image_size = 258\n",
        "batch_size = 64\n",
        "l_rate = 0.001\n",
        "epochs = 200\n",
        "decay = l_rate / epochs\n",
        "\n",
        "train_dataset, val_dataset, test_dataset = create_datasets(TRAINDIR, VALDIR, TESTDIR, image_size=image_size, batch_size=batch_size)\n",
        "\n",
        "# Test whether all returned objects are valid Tensorflow datasets\n",
        "assert isinstance(train_dataset, tf.data.Dataset)\n",
        "assert isinstance(val_dataset, tf.data.Dataset)\n",
        "assert isinstance(test_dataset, tf.data.Dataset)\n",
        "\n",
        "model_Xception = tf.keras.applications.xception.Xception(weights=\"imagenet\", include_top=False, input_shape=(image_size, image_size, 3))\n",
        "\n",
        "model_transfer_full_F = Sequential()\n",
        "\n",
        "model_transfer_full_F.add(RandomFlip(mode='horizontal'))\n",
        "model_transfer_full_F.add(RandomZoom(height_factor=(-0.6,0.6), width_factor=(-0.6,0.6)))\n",
        "\n",
        "model_transfer_full_F.add(model_Xception)\n",
        "model_transfer_full_F.add(tf.keras.layers.GlobalAveragePooling2D())\n",
        "model_transfer_full_F.add(Dropout(0.2))\n",
        "model_transfer_full_F.add(Dense(100, activation='relu'))\n",
        "model_transfer_full_F.add(Dense(6, activation='softmax'))\n",
        "\n",
        "# Hiperparámetros\n",
        "adam = tf.keras.optimizers.Adam(lr=0.001)reduce_lr_loss = tf.keras.callbacks.ReduceLROnPlateau(monitor='val_loss', factor=0.1, patience=7, verbose=1, min_delta=1e-4, mode='min')\n",
        "\n",
        "es_1 = EarlyStopping(monitor='val_loss', patience=10, verbose=0, mode='min')\n",
        "mcp_save = tf.keras.callbacks.ModelCheckpoint('.mdl_wts.hdf5', save_best_only=True, monitor='val_loss', mode='min')\n",
        "\n",
        "# Compilador\n",
        "model_transfer_full_F.compile(loss='categorical_crossentropy', optimizer=adam, metrics=[\"accuracy\"])\n",
        "\n",
        "# Entrenamiento \n",
        "history = model_transfer_full_F.fit(train_dataset, epochs=epochs, validation_data = val_dataset, callbacks = [es_1, mcp_save, reduce_lr_loss], shuffle=True)\n",
        "\n",
        "# Plotting\n",
        "plt.plot(history.history['accuracy'], label='accuracy (training data)')\n",
        "plt.plot(history.history['val_accuracy'], label='accuracy (validation data)')\n",
        "plt.title('acurracy for Images')\n",
        "plt.ylabel('accuracy value')\n",
        "plt.xlabel('No. epoch')\n",
        "plt.legend(loc=\"upper left\")\n",
        "plt.show()\n",
        "\n",
        "# Resultados\n",
        "loss, acc = model_transfer_full_F.evaluate(test_dataset)\n",
        "print(f\"Loss {loss:.3}, accuracy {acc:.1%}\")"
      ],
      "execution_count": null,
      "outputs": [
        {
          "output_type": "stream",
          "text": [
            "Found 6082 files belonging to 6 classes.\n",
            "Found 2108 files belonging to 6 classes.\n",
            "Found 2070 files belonging to 6 classes.\n",
            "Downloading data from https://storage.googleapis.com/tensorflow/keras-applications/xception/xception_weights_tf_dim_ordering_tf_kernels_notop.h5\n",
            "83689472/83683744 [==============================] - 0s 0us/step\n",
            "Epoch 1/200\n",
            "96/96 [==============================] - 189s 2s/step - loss: 1.0319 - accuracy: 0.6212 - val_loss: 2.6599 - val_accuracy: 0.4991\n",
            "Epoch 2/200\n",
            "96/96 [==============================] - 183s 2s/step - loss: 0.6432 - accuracy: 0.7812 - val_loss: 1.2844 - val_accuracy: 0.6689\n",
            "Epoch 3/200\n",
            "96/96 [==============================] - 185s 2s/step - loss: 0.5028 - accuracy: 0.8300 - val_loss: 1.1727 - val_accuracy: 0.6784\n",
            "Epoch 4/200\n",
            "96/96 [==============================] - 184s 2s/step - loss: 0.5491 - accuracy: 0.8131 - val_loss: 0.6961 - val_accuracy: 0.7756\n",
            "Epoch 5/200\n",
            "96/96 [==============================] - 185s 2s/step - loss: 0.4101 - accuracy: 0.8609 - val_loss: 2.1099 - val_accuracy: 0.6380\n",
            "Epoch 6/200\n",
            "96/96 [==============================] - 185s 2s/step - loss: 0.4344 - accuracy: 0.8563 - val_loss: 0.5829 - val_accuracy: 0.8287\n",
            "Epoch 7/200\n",
            "96/96 [==============================] - 189s 2s/step - loss: 0.3870 - accuracy: 0.8728 - val_loss: 0.5923 - val_accuracy: 0.8397\n",
            "Epoch 8/200\n",
            "96/96 [==============================] - 189s 2s/step - loss: 0.2903 - accuracy: 0.9034 - val_loss: 0.7349 - val_accuracy: 0.7993\n",
            "Epoch 9/200\n",
            "96/96 [==============================] - 190s 2s/step - loss: 0.3632 - accuracy: 0.8773 - val_loss: 0.9111 - val_accuracy: 0.7671\n",
            "Epoch 10/200\n",
            "96/96 [==============================] - 189s 2s/step - loss: 0.3929 - accuracy: 0.8741 - val_loss: 0.9029 - val_accuracy: 0.7917\n",
            "Epoch 11/200\n",
            "96/96 [==============================] - 187s 2s/step - loss: 0.4453 - accuracy: 0.8516 - val_loss: 0.7338 - val_accuracy: 0.8031\n",
            "Epoch 12/200\n",
            "96/96 [==============================] - 185s 2s/step - loss: 0.2427 - accuracy: 0.9109 - val_loss: 0.6380 - val_accuracy: 0.8193\n",
            "Epoch 13/200\n",
            "96/96 [==============================] - 185s 2s/step - loss: 0.3237 - accuracy: 0.8847 - val_loss: 0.7476 - val_accuracy: 0.7946\n",
            "\n",
            "Epoch 00013: ReduceLROnPlateau reducing learning rate to 0.00010000000474974513.\n",
            "Epoch 14/200\n",
            "96/96 [==============================] - 185s 2s/step - loss: 0.1998 - accuracy: 0.9310 - val_loss: 0.3612 - val_accuracy: 0.8994\n",
            "Epoch 15/200\n",
            "96/96 [==============================] - 185s 2s/step - loss: 0.1256 - accuracy: 0.9598 - val_loss: 0.3545 - val_accuracy: 0.9004\n",
            "Epoch 16/200\n",
            "96/96 [==============================] - 186s 2s/step - loss: 0.0991 - accuracy: 0.9642 - val_loss: 0.3423 - val_accuracy: 0.9084\n",
            "Epoch 17/200\n",
            "96/96 [==============================] - 186s 2s/step - loss: 0.0997 - accuracy: 0.9678 - val_loss: 0.3258 - val_accuracy: 0.9065\n",
            "Epoch 18/200\n",
            "96/96 [==============================] - 187s 2s/step - loss: 0.0859 - accuracy: 0.9716 - val_loss: 0.3296 - val_accuracy: 0.9118\n",
            "Epoch 19/200\n",
            "96/96 [==============================] - 187s 2s/step - loss: 0.0684 - accuracy: 0.9770 - val_loss: 0.3281 - val_accuracy: 0.9127\n",
            "Epoch 20/200\n",
            "96/96 [==============================] - 185s 2s/step - loss: 0.0817 - accuracy: 0.9730 - val_loss: 0.3262 - val_accuracy: 0.9175\n",
            "Epoch 21/200\n",
            "96/96 [==============================] - 185s 2s/step - loss: 0.0747 - accuracy: 0.9743 - val_loss: 0.3475 - val_accuracy: 0.9108\n",
            "Epoch 22/200\n",
            "96/96 [==============================] - 185s 2s/step - loss: 0.0654 - accuracy: 0.9756 - val_loss: 0.3325 - val_accuracy: 0.9175\n",
            "Epoch 23/200\n",
            "96/96 [==============================] - 185s 2s/step - loss: 0.0587 - accuracy: 0.9782 - val_loss: 0.3707 - val_accuracy: 0.9118\n",
            "Epoch 24/200\n",
            "96/96 [==============================] - 184s 2s/step - loss: 0.0611 - accuracy: 0.9781 - val_loss: 0.3773 - val_accuracy: 0.9075\n",
            "\n",
            "Epoch 00024: ReduceLROnPlateau reducing learning rate to 1.0000000474974514e-05.\n",
            "Epoch 25/200\n",
            "96/96 [==============================] - 185s 2s/step - loss: 0.0462 - accuracy: 0.9852 - val_loss: 0.3667 - val_accuracy: 0.9137\n",
            "Epoch 26/200\n",
            "96/96 [==============================] - 186s 2s/step - loss: 0.0630 - accuracy: 0.9788 - val_loss: 0.3571 - val_accuracy: 0.9156\n",
            "Epoch 27/200\n",
            "96/96 [==============================] - 185s 2s/step - loss: 0.0529 - accuracy: 0.9819 - val_loss: 0.3555 - val_accuracy: 0.9137\n"
          ],
          "name": "stdout"
        },
        {
          "output_type": "display_data",
          "data": {
            "image/png": "[encoded data removed]",
            "text/plain": [
              "<Figure size 432x288 with 1 Axes>"
            ]
          },
          "metadata": {
            "tags": [],
            "needs_background": "light"
          }
        },
        {
          "output_type": "stream",
          "text": [
            "33/33 [==============================] - 19s 525ms/step - loss: 0.3075 - accuracy: 0.9256\n",
            "Loss 0.308, accuracy 92.6%\n"
          ],
          "name": "stdout"
        }
      ]
    },
    {
      "cell_type": "code",
      "metadata": {
        "id": "V-bCiWGi9tfQ",
        "colab": {
          "base_uri": "https://localhost:8080/",
          "height": 329
        },
        "outputId": "dd370a2b-0379-4aae-c76d-f0f535c729d3"
      },
      "source": [
        "plt.plot(history.history['accuracy'], label='accuracy (training data)')\n",
        "plt.plot(history.history['val_accuracy'], label='accuracy (validation data)')\n",
        "plt.title('acurracy for Images')\n",
        "plt.ylabel('accuracy value')\n",
        "plt.xlabel('No. epoch')\n",
        "plt.legend(loc=\"upper left\")\n",
        "plt.show()\n",
        "\n",
        "loss, acc = model_transfer_full_F.evaluate(test_dataset)\n",
        "print(f\"Loss {loss:.3}, accuracy {acc:.1%}\")"
      ],
      "execution_count": null,
      "outputs": [
        {
          "output_type": "display_data",
          "data": {
            "image/png": "[encoded data removed]",
            "text/plain": [
              "<Figure size 432x288 with 1 Axes>"
            ]
          },
          "metadata": {
            "tags": [],
            "needs_background": "light"
          }
        },
        {
          "output_type": "stream",
          "text": [
            "33/33 [==============================] - 16s 436ms/step - loss: 0.3075 - accuracy: 0.9256\n",
            "Loss 0.308, accuracy 92.6%\n"
          ],
          "name": "stdout"
        }
      ]
    },
    {
      "cell_type": "markdown",
      "metadata": {
        "id": "fVJc7DMJhRKK"
      },
      "source": [
        "## Summary of results"
      ]
    },
    {
      "cell_type": "markdown",
      "metadata": {
        "id": "PV2c2JCKhRKK"
      },
      "source": [
        "<img src=\"https://albarji-labs-materials.s3-eu-west-1.amazonaws.com/question.png\" height=\"80\" width=\"80\" style=\"float: right;\"/>\n",
        "\n",
        "***\n",
        "\n",
        "<font color=#ad3e26>\n",
        "Write in the following cell a short report explaining what network designs you tried, and what test accuracies you obtained. What worked and what didn't? What have you learned from this exercise?\n",
        "</font>\n",
        "\n",
        "***"
      ]
    },
    {
      "cell_type": "markdown",
      "metadata": {
        "id": "-3p6sgxN8G5x"
      },
      "source": [
        "Para esta práctica, hemos comprobado muchos modelos diferentes, de entre los cuales hemos seleccionado una muestra representativa que aparece representada en la tabla de abajo. A media que hemos ido probando cada uno de ellos, hemos ido ajustado una serie de hiperparámetros que consideramos que han jugado un papel crucial a la hora de obtener estos resultados."
      ]
    },
    {
      "cell_type": "markdown",
      "metadata": {
        "id": "EofHCraehRKL"
      },
      "source": [
        "Example results table\n",
        "\n",
        "|Image processing|Neural network model|Training strategy|Test accuracy|\n",
        "|----------------|--------------------|-----------------|-------------|\n",
        "size 128x128, batch size 64 | Rescaling + (Conv2D(64) + MaxPooling2D + DropOut(0.5)) x2 veces | Train from scratch | 31.6%|\n",
        "| size 128x128, batch size 64 | Rescaling + Conv2D(16, 3x3, same, relu) + MaxPooling2D + Conv2D(16, 3x3, same, relu) + Flatten + Dense(150,relu) + Dense(6, softmax) | Train from scratch | 49.4%|\n",
        "| size 128x128, batch size 100 | Rescaling + Conv2D(32, 5x5, same, relu) + MaxPooling2D + Conv2D(64, 5x5, same, relu) + Flatten + Dense(6, softmax) | Train from scratch | 49.7%|\n",
        "| size 128x128, batch size 32 | Rescaling + Conv2D(16, 3x3, valid, relu) + MaxPooling2D + Conv2D(64, 3x3, valid, relu) + MaxPooling2D + Flatten + Dense(2000, relu) + DropOut(0.25) + Dense(1024, relu) + DropOut(0.25) + Dense(514, relu) + DropOut(0.25) + Dense(64, relu) + DropOut(0.25) + Dense(6, softmax)| Train from scratch | 62.7%|\n",
        "| size 128x128, batch size 64 | RandomFlip + RandomZoom + Conv2D(16, 3x3, relu) + AveragePooling2D + Conv2D(32, 6x6, relu) + AveragePooling2D +  Conv2D(64, 12x12, relu) + AveragePooling2D + Flatten + Dense(128, relu) + Dense(64, relu) + Dense(6, softmax) | Train from scratch |53.1%|\n",
        "|size 128x128, batch size 100 | VGG16 + GlobalAveragePooling2D + DropOut(0.2) + Dense(100, relu) + Dense(6, softmax) | VGG16 |78.2%|\n",
        "|size 128x128, batch size 256 | VGG16 + GlobalAveragePooling2D + Dense(128, relu) + Dense(6, softmax) | VGG16 |83.5%|\n",
        "|size 128x128, batch size 256| RandomFlip + RandomZoom + GlobalAveragePooling2D + Dense(128, relu) + DropOut(0.25)  + Dense(6, softmax)|InceptionResNetV2|82.1%|\n",
        "|size 258x258, batch size 64|RandomFlip + RandomZoom +  GlobalAveragePooling2D + DropOut(0.2) + Dense(100, relu) + Dense(6, softmax)|Xception Trainable False|90.2%|\n",
        "|size 258x258, batch size 64|RandomFlip + RandomZoom +  GlobalAveragePooling2D + DropOut(0.2) + Dense(100, relu) + Dense(6, softmax)|Xception|92.56%|"
      ]
    },
    {
      "cell_type": "markdown",
      "metadata": {
        "id": "Sl-gpvI083Gq"
      },
      "source": [
        "Fuentes empleadas para el desarrollo de la práctica:\n",
        "\n",
        "- StackOverflow\n",
        "- Keras.io\n",
        "- Github\n",
        "- Kaggle\n",
        "- Medium.com\n",
        "- Arxiv.com\n",
        "- Reddit: PythonProyects2"
      ]
    }
  ]
}